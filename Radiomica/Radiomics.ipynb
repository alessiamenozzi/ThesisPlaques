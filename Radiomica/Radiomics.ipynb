{
 "cells": [
  {
   "cell_type": "markdown",
   "metadata": {},
   "source": [
    "## Import"
   ]
  },
  {
   "cell_type": "code",
   "execution_count": 36,
   "metadata": {},
   "outputs": [],
   "source": [
    "from skimage.segmentation import slic\n",
    "import os\n",
    "import radiomics\n",
    "from radiomics import featureextractor\n",
    "import numpy as np\n",
    "import nrrd\n",
    "import os\n",
    "import numpy as np\n",
    "import nrrd\n",
    "import pandas as pd\n",
    "from radiomics import featureextractor\n",
    "from skimage.util import view_as_blocks\n",
    "import SimpleITK as sitk\n",
    "import matplotlib.pyplot as plt\n",
    "import pandas as pd\n",
    "import csv\n",
    "from skimage.color import label2rgb\n",
    "from skimage.measure import regionprops, label\n"
   ]
  },
  {
   "cell_type": "markdown",
   "metadata": {},
   "source": [
    "## Features Radiomiche"
   ]
  },
  {
   "cell_type": "code",
   "execution_count": 2,
   "metadata": {},
   "outputs": [
    {
     "name": "stdout",
     "output_type": "stream",
     "text": [
      "100\n"
     ]
    },
    {
     "ename": "KeyboardInterrupt",
     "evalue": "",
     "output_type": "error",
     "traceback": [
      "\u001b[1;31m---------------------------------------------------------------------------\u001b[0m",
      "\u001b[1;31mKeyboardInterrupt\u001b[0m                         Traceback (most recent call last)",
      "\u001b[1;32m~\\AppData\\Local\\Temp\\ipykernel_25960\\3872492592.py\u001b[0m in \u001b[0;36m?\u001b[1;34m()\u001b[0m\n\u001b[0;32m     53\u001b[0m                 \u001b[1;31m# Aggiungi il nome del paziente alla lista\u001b[0m\u001b[1;33m\u001b[0m\u001b[1;33m\u001b[0m\u001b[0m\n\u001b[0;32m     54\u001b[0m                 \u001b[0mpatient_names\u001b[0m\u001b[1;33m.\u001b[0m\u001b[0mappend\u001b[0m\u001b[1;33m(\u001b[0m\u001b[0mpaziente\u001b[0m\u001b[1;33m)\u001b[0m\u001b[1;33m\u001b[0m\u001b[1;33m\u001b[0m\u001b[0m\n\u001b[0;32m     55\u001b[0m \u001b[1;33m\u001b[0m\u001b[0m\n\u001b[0;32m     56\u001b[0m                 \u001b[1;31m# Estrai le features radiomiche\u001b[0m\u001b[1;33m\u001b[0m\u001b[1;33m\u001b[0m\u001b[0m\n\u001b[1;32m---> 57\u001b[1;33m                 \u001b[0mresults\u001b[0m \u001b[1;33m=\u001b[0m \u001b[0mestrattore\u001b[0m\u001b[1;33m.\u001b[0m\u001b[0mexecute\u001b[0m\u001b[1;33m(\u001b[0m\u001b[0mimmagine_file\u001b[0m\u001b[1;33m,\u001b[0m \u001b[0mmaschera_file\u001b[0m\u001b[1;33m)\u001b[0m\u001b[1;33m\u001b[0m\u001b[1;33m\u001b[0m\u001b[0m\n\u001b[0m\u001b[0;32m     58\u001b[0m \u001b[1;33m\u001b[0m\u001b[0m\n\u001b[0;32m     59\u001b[0m                 \u001b[1;31m# Trasforma i risultati in un vettore di features\u001b[0m\u001b[1;33m\u001b[0m\u001b[1;33m\u001b[0m\u001b[0m\n\u001b[0;32m     60\u001b[0m                 feature_vector = np.array([value.item() if isinstance(value, np.ndarray) else value \n",
      "\u001b[1;32mc:\\Users\\bsbar\\anaconda3\\envs\\iml\\lib\\site-packages\\radiomics\\featureextractor.py\u001b[0m in \u001b[0;36m?\u001b[1;34m(self, imageFilepath, maskFilepath, label, label_channel, voxelBased)\u001b[0m\n\u001b[0;32m    268\u001b[0m     \u001b[0mlogger\u001b[0m\u001b[1;33m.\u001b[0m\u001b[0mdebug\u001b[0m\u001b[1;33m(\u001b[0m\u001b[1;34m'Current settings: %s'\u001b[0m\u001b[1;33m,\u001b[0m \u001b[0m_settings\u001b[0m\u001b[1;33m)\u001b[0m\u001b[1;33m\u001b[0m\u001b[1;33m\u001b[0m\u001b[0m\n\u001b[0;32m    269\u001b[0m \u001b[1;33m\u001b[0m\u001b[0m\n\u001b[0;32m    270\u001b[0m     \u001b[1;31m# 1. Load the image and mask\u001b[0m\u001b[1;33m\u001b[0m\u001b[1;33m\u001b[0m\u001b[0m\n\u001b[0;32m    271\u001b[0m     \u001b[0mfeatureVector\u001b[0m \u001b[1;33m=\u001b[0m \u001b[0mcollections\u001b[0m\u001b[1;33m.\u001b[0m\u001b[0mOrderedDict\u001b[0m\u001b[1;33m(\u001b[0m\u001b[1;33m)\u001b[0m\u001b[1;33m\u001b[0m\u001b[1;33m\u001b[0m\u001b[0m\n\u001b[1;32m--> 272\u001b[1;33m     \u001b[0mimage\u001b[0m\u001b[1;33m,\u001b[0m \u001b[0mmask\u001b[0m \u001b[1;33m=\u001b[0m \u001b[0mself\u001b[0m\u001b[1;33m.\u001b[0m\u001b[0mloadImage\u001b[0m\u001b[1;33m(\u001b[0m\u001b[0mimageFilepath\u001b[0m\u001b[1;33m,\u001b[0m \u001b[0mmaskFilepath\u001b[0m\u001b[1;33m,\u001b[0m \u001b[0mgeneralInfo\u001b[0m\u001b[1;33m,\u001b[0m \u001b[1;33m**\u001b[0m\u001b[0m_settings\u001b[0m\u001b[1;33m)\u001b[0m\u001b[1;33m\u001b[0m\u001b[1;33m\u001b[0m\u001b[0m\n\u001b[0m\u001b[0;32m    273\u001b[0m \u001b[1;33m\u001b[0m\u001b[0m\n\u001b[0;32m    274\u001b[0m     \u001b[1;31m# 2. Check whether loaded mask contains a valid ROI for feature extraction and get bounding box\u001b[0m\u001b[1;33m\u001b[0m\u001b[1;33m\u001b[0m\u001b[0m\n\u001b[0;32m    275\u001b[0m     \u001b[1;31m# Raises a ValueError if the ROI is invalid\u001b[0m\u001b[1;33m\u001b[0m\u001b[1;33m\u001b[0m\u001b[0m\n",
      "\u001b[1;32mc:\\Users\\bsbar\\anaconda3\\envs\\iml\\lib\\site-packages\\radiomics\\featureextractor.py\u001b[0m in \u001b[0;36m?\u001b[1;34m(ImageFilePath, MaskFilePath, generalInfo, **kwargs)\u001b[0m\n\u001b[0;32m    384\u001b[0m     \u001b[1;31m# process the mask\u001b[0m\u001b[1;33m\u001b[0m\u001b[1;33m\u001b[0m\u001b[0m\n\u001b[0;32m    385\u001b[0m     \u001b[0mmask\u001b[0m \u001b[1;33m=\u001b[0m \u001b[0mimageoperations\u001b[0m\u001b[1;33m.\u001b[0m\u001b[0mgetMask\u001b[0m\u001b[1;33m(\u001b[0m\u001b[0mmask\u001b[0m\u001b[1;33m,\u001b[0m \u001b[1;33m**\u001b[0m\u001b[0mkwargs\u001b[0m\u001b[1;33m)\u001b[0m\u001b[1;33m\u001b[0m\u001b[1;33m\u001b[0m\u001b[0m\n\u001b[0;32m    386\u001b[0m \u001b[1;33m\u001b[0m\u001b[0m\n\u001b[0;32m    387\u001b[0m     \u001b[1;32mif\u001b[0m \u001b[0mgeneralInfo\u001b[0m \u001b[1;32mis\u001b[0m \u001b[1;32mnot\u001b[0m \u001b[1;32mNone\u001b[0m\u001b[1;33m:\u001b[0m\u001b[1;33m\u001b[0m\u001b[1;33m\u001b[0m\u001b[0m\n\u001b[1;32m--> 388\u001b[1;33m       \u001b[0mgeneralInfo\u001b[0m\u001b[1;33m.\u001b[0m\u001b[0maddImageElements\u001b[0m\u001b[1;33m(\u001b[0m\u001b[0mimage\u001b[0m\u001b[1;33m)\u001b[0m\u001b[1;33m\u001b[0m\u001b[1;33m\u001b[0m\u001b[0m\n\u001b[0m\u001b[0;32m    389\u001b[0m       \u001b[1;31m# Do not include the image here, as the overlap between image and mask have not been checked\u001b[0m\u001b[1;33m\u001b[0m\u001b[1;33m\u001b[0m\u001b[0m\n\u001b[0;32m    390\u001b[0m       \u001b[1;31m# It is therefore possible that image and mask do not align, or even have different sizes.\u001b[0m\u001b[1;33m\u001b[0m\u001b[1;33m\u001b[0m\u001b[0m\n\u001b[0;32m    391\u001b[0m       \u001b[0mgeneralInfo\u001b[0m\u001b[1;33m.\u001b[0m\u001b[0maddMaskElements\u001b[0m\u001b[1;33m(\u001b[0m\u001b[1;32mNone\u001b[0m\u001b[1;33m,\u001b[0m \u001b[0mmask\u001b[0m\u001b[1;33m,\u001b[0m \u001b[0mlabel\u001b[0m\u001b[1;33m)\u001b[0m\u001b[1;33m\u001b[0m\u001b[1;33m\u001b[0m\u001b[0m\n",
      "\u001b[1;32mc:\\Users\\bsbar\\anaconda3\\envs\\iml\\lib\\site-packages\\radiomics\\generalinfo.py\u001b[0m in \u001b[0;36m?\u001b[1;34m(self, image, prefix)\u001b[0m\n\u001b[0;32m     63\u001b[0m     \u001b[1;33m-\u001b[0m \u001b[0moriginal\u001b[0m\u001b[1;33m:\u001b[0m \u001b[0mImage\u001b[0m \u001b[1;32mas\u001b[0m \u001b[0mloaded\u001b[0m\u001b[1;33m,\u001b[0m \u001b[0mwithout\u001b[0m \u001b[0mpre\u001b[0m\u001b[1;33m-\u001b[0m\u001b[0mprocessing\u001b[0m\u001b[1;33m.\u001b[0m\u001b[1;33m\u001b[0m\u001b[1;33m\u001b[0m\u001b[0m\n\u001b[0;32m     64\u001b[0m     \u001b[1;33m-\u001b[0m \u001b[0minterpolated\u001b[0m\u001b[1;33m:\u001b[0m \u001b[0mImage\u001b[0m \u001b[0mafter\u001b[0m \u001b[0mit\u001b[0m \u001b[0mhas\u001b[0m \u001b[0mbeen\u001b[0m \u001b[0mresampled\u001b[0m \u001b[0mto\u001b[0m \u001b[0ma\u001b[0m \u001b[0mnew\u001b[0m \u001b[0mspacing\u001b[0m \u001b[1;33m(\u001b[0m\u001b[0mincludes\u001b[0m \u001b[0mcropping\u001b[0m\u001b[1;33m)\u001b[0m\u001b[1;33m.\u001b[0m\u001b[1;33m\u001b[0m\u001b[1;33m\u001b[0m\u001b[0m\n\u001b[0;32m     65\u001b[0m     \"\"\"\n\u001b[0;32m     66\u001b[0m     \u001b[1;32mif\u001b[0m \u001b[0mprefix\u001b[0m \u001b[1;33m==\u001b[0m \u001b[1;34m'original'\u001b[0m\u001b[1;33m:\u001b[0m\u001b[1;33m\u001b[0m\u001b[1;33m\u001b[0m\u001b[0m\n\u001b[1;32m---> 67\u001b[1;33m       \u001b[0mself\u001b[0m\u001b[1;33m.\u001b[0m\u001b[0mgeneralInfo\u001b[0m\u001b[1;33m[\u001b[0m\u001b[0mself\u001b[0m\u001b[1;33m.\u001b[0m\u001b[0mgeneralInfo_prefix\u001b[0m \u001b[1;33m+\u001b[0m \u001b[1;34m'Image-original_Hash'\u001b[0m\u001b[1;33m]\u001b[0m \u001b[1;33m=\u001b[0m \u001b[0msitk\u001b[0m\u001b[1;33m.\u001b[0m\u001b[0mHash\u001b[0m\u001b[1;33m(\u001b[0m\u001b[0mimage\u001b[0m\u001b[1;33m)\u001b[0m\u001b[1;33m\u001b[0m\u001b[1;33m\u001b[0m\u001b[0m\n\u001b[0m\u001b[0;32m     68\u001b[0m       \u001b[0mself\u001b[0m\u001b[1;33m.\u001b[0m\u001b[0mgeneralInfo\u001b[0m\u001b[1;33m[\u001b[0m\u001b[0mself\u001b[0m\u001b[1;33m.\u001b[0m\u001b[0mgeneralInfo_prefix\u001b[0m \u001b[1;33m+\u001b[0m \u001b[1;34m'Image-original_Dimensionality'\u001b[0m\u001b[1;33m]\u001b[0m \u001b[1;33m=\u001b[0m \u001b[1;34m'%iD'\u001b[0m \u001b[1;33m%\u001b[0m \u001b[0mimage\u001b[0m\u001b[1;33m.\u001b[0m\u001b[0mGetDimension\u001b[0m\u001b[1;33m(\u001b[0m\u001b[1;33m)\u001b[0m\u001b[1;33m\u001b[0m\u001b[1;33m\u001b[0m\u001b[0m\n\u001b[0;32m     69\u001b[0m \u001b[1;33m\u001b[0m\u001b[0m\n\u001b[0;32m     70\u001b[0m     \u001b[0mself\u001b[0m\u001b[1;33m.\u001b[0m\u001b[0mgeneralInfo\u001b[0m\u001b[1;33m[\u001b[0m\u001b[0mself\u001b[0m\u001b[1;33m.\u001b[0m\u001b[0mgeneralInfo_prefix\u001b[0m \u001b[1;33m+\u001b[0m \u001b[1;34m'Image-'\u001b[0m \u001b[1;33m+\u001b[0m \u001b[0mprefix\u001b[0m \u001b[1;33m+\u001b[0m \u001b[1;34m'_Spacing'\u001b[0m\u001b[1;33m]\u001b[0m \u001b[1;33m=\u001b[0m \u001b[0mimage\u001b[0m\u001b[1;33m.\u001b[0m\u001b[0mGetSpacing\u001b[0m\u001b[1;33m(\u001b[0m\u001b[1;33m)\u001b[0m\u001b[1;33m\u001b[0m\u001b[1;33m\u001b[0m\u001b[0m\n",
      "\u001b[1;32mc:\\Users\\bsbar\\anaconda3\\envs\\iml\\lib\\site-packages\\SimpleITK\\SimpleITK.py\u001b[0m in \u001b[0;36m?\u001b[1;34m(*args, **kwargs)\u001b[0m\n\u001b[0;32m   9050\u001b[0m     \u001b[0mHash\u001b[0m\u001b[1;33m(\u001b[0m\u001b[0mImage\u001b[0m \u001b[0mimage\u001b[0m\u001b[1;33m,\u001b[0m \u001b[0mitk\u001b[0m\u001b[1;33m:\u001b[0m\u001b[1;33m:\u001b[0m\u001b[0msimple\u001b[0m\u001b[1;33m:\u001b[0m\u001b[1;33m:\u001b[0m\u001b[0mHashImageFilter\u001b[0m\u001b[1;33m:\u001b[0m\u001b[1;33m:\u001b[0m\u001b[0mHashFunction\u001b[0m \u001b[0mfunction\u001b[0m\u001b[1;33m=\u001b[0m\u001b[0mSHA1\u001b[0m\u001b[1;33m)\u001b[0m \u001b[1;33m->\u001b[0m \u001b[0mstd\u001b[0m\u001b[1;33m:\u001b[0m\u001b[1;33m:\u001b[0m\u001b[0mstring\u001b[0m\u001b[1;33m\u001b[0m\u001b[1;33m\u001b[0m\u001b[0m\n\u001b[0;32m   9051\u001b[0m \u001b[1;33m\u001b[0m\u001b[0m\n\u001b[0;32m   9052\u001b[0m \u001b[1;33m\u001b[0m\u001b[0m\n\u001b[0;32m   9053\u001b[0m     \"\"\"\n\u001b[1;32m-> 9054\u001b[1;33m     \u001b[1;32mreturn\u001b[0m \u001b[0m_SimpleITK\u001b[0m\u001b[1;33m.\u001b[0m\u001b[0mHash\u001b[0m\u001b[1;33m(\u001b[0m\u001b[1;33m*\u001b[0m\u001b[0margs\u001b[0m\u001b[1;33m,\u001b[0m \u001b[1;33m**\u001b[0m\u001b[0mkwargs\u001b[0m\u001b[1;33m)\u001b[0m\u001b[1;33m\u001b[0m\u001b[1;33m\u001b[0m\u001b[0m\n\u001b[0m",
      "\u001b[1;31mKeyboardInterrupt\u001b[0m: "
     ]
    }
   ],
   "source": [
    "# Percorsi delle cartelle\n",
    "pazienti_dir = 'C:\\\\Users\\\\bsbar\\\\Desktop\\\\pazienti_nrrd'\n",
    "roi_dir = 'C:\\\\Users\\\\bsbar\\\\Desktop\\\\Tesi\\\\ROI'\n",
    "\n",
    "cartelle_da_saltare = ['19', '40', '88', '150', '193', '107']\n",
    "\n",
    "# Lista per i vettori delle features e i nomi dei pazienti\n",
    "feature_vectors = []\n",
    "patient_names = []\n",
    "dimension_mismatch = []\n",
    "\n",
    "# Imposta l'estrattore con le configurazioni di default\n",
    "estrattore = featureextractor.RadiomicsFeatureExtractor()\n",
    "\n",
    "# Funzione per trovare il file .nrrd in una cartella\n",
    "def trova_nrrd_file(cartella):\n",
    "    for file in os.listdir(cartella):\n",
    "        if file.endswith('.nrrd'):\n",
    "            return os.path.join(cartella, file)\n",
    "    return None\n",
    "\n",
    "# Funzione per verificare le dimensioni delle immagini\n",
    "def verifica_dimensioni(immagine_file, maschera_file):\n",
    "    immagine, _ = nrrd.read(immagine_file)\n",
    "    maschera, _ = nrrd.read(maschera_file)\n",
    "    return immagine.shape == maschera.shape\n",
    "\n",
    "# Itera su tutti i pazienti\n",
    "for paziente in sorted(os.listdir(pazienti_dir)):\n",
    "    print(paziente)\n",
    "    if paziente in cartelle_da_saltare:\n",
    "        print(f\"Saltata la cartella del paziente {paziente}\")\n",
    "        continue  # Salta questa iterazione e passa al paziente successivo\n",
    "    \n",
    "    # Verifica se la cartella esiste anche per le ROI\n",
    "    roi_paziente_dir = os.path.join(roi_dir, paziente)\n",
    "    paziente_dir = os.path.join(pazienti_dir, paziente)\n",
    "\n",
    "    if os.path.isdir(roi_paziente_dir):\n",
    "        # Trova i file immagine e maschera nella rispettiva cartella\n",
    "        immagine_file = trova_nrrd_file(paziente_dir)\n",
    "        maschera_file = trova_nrrd_file(roi_paziente_dir)\n",
    "     \n",
    "        if immagine_file and maschera_file:\n",
    "            # Verifica se le dimensioni delle immagini e delle ROI corrispondono\n",
    "            if verifica_dimensioni(immagine_file, maschera_file):\n",
    "                # Aggiungi il nome del paziente alla lista\n",
    "                patient_names.append(paziente)\n",
    "\n",
    "                # Estrai le features radiomiche\n",
    "                results = estrattore.execute(immagine_file, maschera_file)\n",
    "\n",
    "                # Trasforma i risultati in un vettore di features\n",
    "                feature_vector = np.array([value.item() if isinstance(value, np.ndarray) else value \n",
    "                           for key, value in results.items() \n",
    "                           if isinstance(value, (float, int, np.ndarray))])\n",
    "                \n",
    "                # Aggiungi il vettore delle features alla lista\n",
    "                feature_vectors.append(feature_vector)\n",
    "                \n",
    "            else:\n",
    "                # Aggiungi il nome del paziente e un messaggio di errore alla lista delle dimensioni non corrispondenti\n",
    "                dimension_mismatch.append(paziente)\n",
    "\n",
    "# Trasforma la lista di vettori in un array numpy\n",
    "feature_matrix = np.array(feature_vectors)\n",
    "\n",
    "# Ora hai:\n",
    "# - 'feature_matrix': una matrice dove ogni riga è il vettore di features di un paziente\n",
    "# - 'patient_names': una lista dei nomi dei pazienti corrispondente\n",
    "# - 'dimension_mismatch': una lista dei nomi dei pazienti con dimensioni non corrispondenti"
   ]
  },
  {
   "cell_type": "code",
   "execution_count": 26,
   "metadata": {},
   "outputs": [
    {
     "name": "stdout",
     "output_type": "stream",
     "text": [
      "File CSV salvato come features_radiomiche.csv\n"
     ]
    }
   ],
   "source": [
    "import csv\n",
    "\n",
    "# Ordina i pazienti in base al loro nome numerico\n",
    "patient_names_sorted, feature_vectors_sorted = zip(*sorted(zip(patient_names, feature_vectors), key=lambda x: int(x[0])))\n",
    "feature_names = [key for key, value in results.items() if isinstance(value, (float, int, np.ndarray))]\n",
    "\n",
    "\n",
    "# Salva le features e i nomi dei pazienti in un file CSV\n",
    "output_csv = 'features_radiomiche.csv'\n",
    "with open(output_csv, mode='w', newline='') as file:\n",
    "    writer = csv.writer(file, delimiter=';')  # Usa il delimitatore punto e virgola\n",
    "\n",
    "    # Scrivi l'intestazione: la prima colonna è \"Paziente\" e le altre colonne rappresentano le features\n",
    "    writer.writerow(['Paziente'] + feature_names)\n",
    "\n",
    "    # Scrivi i dati: il nome del paziente e le sue features\n",
    "    for name, features in zip(patient_names_sorted, feature_vectors_sorted):\n",
    "        writer.writerow([name] + list(features))\n",
    "\n",
    "print(f'File CSV salvato come {output_csv}')"
   ]
  },
  {
   "cell_type": "code",
   "execution_count": 36,
   "metadata": {},
   "outputs": [
    {
     "name": "stdout",
     "output_type": "stream",
     "text": [
      "Feature classes disponibili:\n",
      "firstorder\n",
      "glcm\n",
      "gldm\n",
      "glrlm\n",
      "glszm\n",
      "ngtdm\n",
      "shape\n",
      "shape2D\n"
     ]
    }
   ],
   "source": [
    "import radiomics\n",
    "from radiomics import featureextractor, getFeatureClasses\n",
    "\n",
    "# Ottieni le classi di feature disponibili\n",
    "feature_classes = getFeatureClasses()\n",
    "print(\"Feature classes disponibili:\")\n",
    "for feature_class_name in feature_classes:\n",
    "    print(feature_class_name)"
   ]
  },
  {
   "cell_type": "markdown",
   "metadata": {},
   "source": [
    "## Wavelet"
   ]
  },
  {
   "cell_type": "code",
   "execution_count": 9,
   "metadata": {},
   "outputs": [
    {
     "name": "stdout",
     "output_type": "stream",
     "text": [
      "100\n"
     ]
    },
    {
     "name": "stderr",
     "output_type": "stream",
     "text": [
      "GLCM is symmetrical, therefore Sum Average = 2 * Joint Average, only 1 needs to be calculated\n"
     ]
    },
    {
     "name": "stdout",
     "output_type": "stream",
     "text": [
      "101\n"
     ]
    },
    {
     "name": "stderr",
     "output_type": "stream",
     "text": [
      "GLCM is symmetrical, therefore Sum Average = 2 * Joint Average, only 1 needs to be calculated\n"
     ]
    },
    {
     "name": "stdout",
     "output_type": "stream",
     "text": [
      "102\n"
     ]
    },
    {
     "name": "stderr",
     "output_type": "stream",
     "text": [
      "GLCM is symmetrical, therefore Sum Average = 2 * Joint Average, only 1 needs to be calculated\n"
     ]
    },
    {
     "name": "stdout",
     "output_type": "stream",
     "text": [
      "103\n"
     ]
    },
    {
     "name": "stderr",
     "output_type": "stream",
     "text": [
      "GLCM is symmetrical, therefore Sum Average = 2 * Joint Average, only 1 needs to be calculated\n"
     ]
    },
    {
     "name": "stdout",
     "output_type": "stream",
     "text": [
      "104\n"
     ]
    },
    {
     "name": "stderr",
     "output_type": "stream",
     "text": [
      "GLCM is symmetrical, therefore Sum Average = 2 * Joint Average, only 1 needs to be calculated\n"
     ]
    },
    {
     "name": "stdout",
     "output_type": "stream",
     "text": [
      "105\n"
     ]
    },
    {
     "name": "stderr",
     "output_type": "stream",
     "text": [
      "GLCM is symmetrical, therefore Sum Average = 2 * Joint Average, only 1 needs to be calculated\n"
     ]
    },
    {
     "name": "stdout",
     "output_type": "stream",
     "text": [
      "106\n"
     ]
    },
    {
     "name": "stderr",
     "output_type": "stream",
     "text": [
      "GLCM is symmetrical, therefore Sum Average = 2 * Joint Average, only 1 needs to be calculated\n"
     ]
    },
    {
     "name": "stdout",
     "output_type": "stream",
     "text": [
      "107\n",
      "Saltata la cartella del paziente 107\n",
      "108\n"
     ]
    },
    {
     "name": "stderr",
     "output_type": "stream",
     "text": [
      "GLCM is symmetrical, therefore Sum Average = 2 * Joint Average, only 1 needs to be calculated\n"
     ]
    },
    {
     "name": "stdout",
     "output_type": "stream",
     "text": [
      "109\n"
     ]
    },
    {
     "name": "stderr",
     "output_type": "stream",
     "text": [
      "GLCM is symmetrical, therefore Sum Average = 2 * Joint Average, only 1 needs to be calculated\n"
     ]
    },
    {
     "name": "stdout",
     "output_type": "stream",
     "text": [
      "110\n"
     ]
    },
    {
     "name": "stderr",
     "output_type": "stream",
     "text": [
      "GLCM is symmetrical, therefore Sum Average = 2 * Joint Average, only 1 needs to be calculated\n"
     ]
    },
    {
     "name": "stdout",
     "output_type": "stream",
     "text": [
      "111\n"
     ]
    },
    {
     "name": "stderr",
     "output_type": "stream",
     "text": [
      "GLCM is symmetrical, therefore Sum Average = 2 * Joint Average, only 1 needs to be calculated\n"
     ]
    },
    {
     "name": "stdout",
     "output_type": "stream",
     "text": [
      "112\n"
     ]
    },
    {
     "name": "stderr",
     "output_type": "stream",
     "text": [
      "GLCM is symmetrical, therefore Sum Average = 2 * Joint Average, only 1 needs to be calculated\n"
     ]
    },
    {
     "name": "stdout",
     "output_type": "stream",
     "text": [
      "113\n"
     ]
    },
    {
     "name": "stderr",
     "output_type": "stream",
     "text": [
      "GLCM is symmetrical, therefore Sum Average = 2 * Joint Average, only 1 needs to be calculated\n"
     ]
    },
    {
     "name": "stdout",
     "output_type": "stream",
     "text": [
      "114\n"
     ]
    },
    {
     "name": "stderr",
     "output_type": "stream",
     "text": [
      "GLCM is symmetrical, therefore Sum Average = 2 * Joint Average, only 1 needs to be calculated\n"
     ]
    },
    {
     "name": "stdout",
     "output_type": "stream",
     "text": [
      "115\n"
     ]
    },
    {
     "name": "stderr",
     "output_type": "stream",
     "text": [
      "GLCM is symmetrical, therefore Sum Average = 2 * Joint Average, only 1 needs to be calculated\n"
     ]
    },
    {
     "name": "stdout",
     "output_type": "stream",
     "text": [
      "116\n"
     ]
    },
    {
     "name": "stderr",
     "output_type": "stream",
     "text": [
      "GLCM is symmetrical, therefore Sum Average = 2 * Joint Average, only 1 needs to be calculated\n"
     ]
    },
    {
     "name": "stdout",
     "output_type": "stream",
     "text": [
      "117\n"
     ]
    },
    {
     "name": "stderr",
     "output_type": "stream",
     "text": [
      "GLCM is symmetrical, therefore Sum Average = 2 * Joint Average, only 1 needs to be calculated\n"
     ]
    },
    {
     "name": "stdout",
     "output_type": "stream",
     "text": [
      "118\n"
     ]
    },
    {
     "name": "stderr",
     "output_type": "stream",
     "text": [
      "GLCM is symmetrical, therefore Sum Average = 2 * Joint Average, only 1 needs to be calculated\n"
     ]
    },
    {
     "name": "stdout",
     "output_type": "stream",
     "text": [
      "119\n"
     ]
    },
    {
     "name": "stderr",
     "output_type": "stream",
     "text": [
      "GLCM is symmetrical, therefore Sum Average = 2 * Joint Average, only 1 needs to be calculated\n"
     ]
    },
    {
     "name": "stdout",
     "output_type": "stream",
     "text": [
      "12\n"
     ]
    },
    {
     "name": "stderr",
     "output_type": "stream",
     "text": [
      "GLCM is symmetrical, therefore Sum Average = 2 * Joint Average, only 1 needs to be calculated\n"
     ]
    },
    {
     "name": "stdout",
     "output_type": "stream",
     "text": [
      "120\n"
     ]
    },
    {
     "name": "stderr",
     "output_type": "stream",
     "text": [
      "GLCM is symmetrical, therefore Sum Average = 2 * Joint Average, only 1 needs to be calculated\n"
     ]
    },
    {
     "name": "stdout",
     "output_type": "stream",
     "text": [
      "123\n"
     ]
    },
    {
     "name": "stderr",
     "output_type": "stream",
     "text": [
      "GLCM is symmetrical, therefore Sum Average = 2 * Joint Average, only 1 needs to be calculated\n"
     ]
    },
    {
     "name": "stdout",
     "output_type": "stream",
     "text": [
      "124\n"
     ]
    },
    {
     "name": "stderr",
     "output_type": "stream",
     "text": [
      "GLCM is symmetrical, therefore Sum Average = 2 * Joint Average, only 1 needs to be calculated\n"
     ]
    },
    {
     "name": "stdout",
     "output_type": "stream",
     "text": [
      "126\n"
     ]
    },
    {
     "name": "stderr",
     "output_type": "stream",
     "text": [
      "GLCM is symmetrical, therefore Sum Average = 2 * Joint Average, only 1 needs to be calculated\n"
     ]
    },
    {
     "name": "stdout",
     "output_type": "stream",
     "text": [
      "127\n",
      "128\n"
     ]
    },
    {
     "name": "stderr",
     "output_type": "stream",
     "text": [
      "GLCM is symmetrical, therefore Sum Average = 2 * Joint Average, only 1 needs to be calculated\n"
     ]
    },
    {
     "name": "stdout",
     "output_type": "stream",
     "text": [
      "129\n"
     ]
    },
    {
     "name": "stderr",
     "output_type": "stream",
     "text": [
      "GLCM is symmetrical, therefore Sum Average = 2 * Joint Average, only 1 needs to be calculated\n"
     ]
    },
    {
     "name": "stdout",
     "output_type": "stream",
     "text": [
      "133\n"
     ]
    },
    {
     "name": "stderr",
     "output_type": "stream",
     "text": [
      "GLCM is symmetrical, therefore Sum Average = 2 * Joint Average, only 1 needs to be calculated\n"
     ]
    },
    {
     "name": "stdout",
     "output_type": "stream",
     "text": [
      "135\n"
     ]
    },
    {
     "name": "stderr",
     "output_type": "stream",
     "text": [
      "GLCM is symmetrical, therefore Sum Average = 2 * Joint Average, only 1 needs to be calculated\n"
     ]
    },
    {
     "name": "stdout",
     "output_type": "stream",
     "text": [
      "136\n"
     ]
    },
    {
     "name": "stderr",
     "output_type": "stream",
     "text": [
      "GLCM is symmetrical, therefore Sum Average = 2 * Joint Average, only 1 needs to be calculated\n"
     ]
    },
    {
     "name": "stdout",
     "output_type": "stream",
     "text": [
      "137\n"
     ]
    },
    {
     "name": "stderr",
     "output_type": "stream",
     "text": [
      "GLCM is symmetrical, therefore Sum Average = 2 * Joint Average, only 1 needs to be calculated\n"
     ]
    },
    {
     "name": "stdout",
     "output_type": "stream",
     "text": [
      "138\n"
     ]
    },
    {
     "name": "stderr",
     "output_type": "stream",
     "text": [
      "GLCM is symmetrical, therefore Sum Average = 2 * Joint Average, only 1 needs to be calculated\n"
     ]
    },
    {
     "name": "stdout",
     "output_type": "stream",
     "text": [
      "139\n"
     ]
    },
    {
     "name": "stderr",
     "output_type": "stream",
     "text": [
      "GLCM is symmetrical, therefore Sum Average = 2 * Joint Average, only 1 needs to be calculated\n"
     ]
    },
    {
     "name": "stdout",
     "output_type": "stream",
     "text": [
      "141\n"
     ]
    },
    {
     "name": "stderr",
     "output_type": "stream",
     "text": [
      "GLCM is symmetrical, therefore Sum Average = 2 * Joint Average, only 1 needs to be calculated\n"
     ]
    },
    {
     "name": "stdout",
     "output_type": "stream",
     "text": [
      "142\n"
     ]
    },
    {
     "name": "stderr",
     "output_type": "stream",
     "text": [
      "GLCM is symmetrical, therefore Sum Average = 2 * Joint Average, only 1 needs to be calculated\n"
     ]
    },
    {
     "name": "stdout",
     "output_type": "stream",
     "text": [
      "144\n"
     ]
    },
    {
     "name": "stderr",
     "output_type": "stream",
     "text": [
      "GLCM is symmetrical, therefore Sum Average = 2 * Joint Average, only 1 needs to be calculated\n"
     ]
    },
    {
     "name": "stdout",
     "output_type": "stream",
     "text": [
      "146\n"
     ]
    },
    {
     "name": "stderr",
     "output_type": "stream",
     "text": [
      "GLCM is symmetrical, therefore Sum Average = 2 * Joint Average, only 1 needs to be calculated\n"
     ]
    },
    {
     "name": "stdout",
     "output_type": "stream",
     "text": [
      "147\n"
     ]
    },
    {
     "name": "stderr",
     "output_type": "stream",
     "text": [
      "GLCM is symmetrical, therefore Sum Average = 2 * Joint Average, only 1 needs to be calculated\n"
     ]
    },
    {
     "name": "stdout",
     "output_type": "stream",
     "text": [
      "149\n"
     ]
    },
    {
     "name": "stderr",
     "output_type": "stream",
     "text": [
      "GLCM is symmetrical, therefore Sum Average = 2 * Joint Average, only 1 needs to be calculated\n"
     ]
    },
    {
     "name": "stdout",
     "output_type": "stream",
     "text": [
      "15\n"
     ]
    },
    {
     "name": "stderr",
     "output_type": "stream",
     "text": [
      "GLCM is symmetrical, therefore Sum Average = 2 * Joint Average, only 1 needs to be calculated\n"
     ]
    },
    {
     "name": "stdout",
     "output_type": "stream",
     "text": [
      "153\n"
     ]
    },
    {
     "name": "stderr",
     "output_type": "stream",
     "text": [
      "GLCM is symmetrical, therefore Sum Average = 2 * Joint Average, only 1 needs to be calculated\n"
     ]
    },
    {
     "name": "stdout",
     "output_type": "stream",
     "text": [
      "155\n"
     ]
    },
    {
     "name": "stderr",
     "output_type": "stream",
     "text": [
      "GLCM is symmetrical, therefore Sum Average = 2 * Joint Average, only 1 needs to be calculated\n"
     ]
    },
    {
     "name": "stdout",
     "output_type": "stream",
     "text": [
      "158\n"
     ]
    },
    {
     "name": "stderr",
     "output_type": "stream",
     "text": [
      "GLCM is symmetrical, therefore Sum Average = 2 * Joint Average, only 1 needs to be calculated\n"
     ]
    },
    {
     "name": "stdout",
     "output_type": "stream",
     "text": [
      "159\n"
     ]
    },
    {
     "name": "stderr",
     "output_type": "stream",
     "text": [
      "GLCM is symmetrical, therefore Sum Average = 2 * Joint Average, only 1 needs to be calculated\n"
     ]
    },
    {
     "name": "stdout",
     "output_type": "stream",
     "text": [
      "16\n"
     ]
    },
    {
     "name": "stderr",
     "output_type": "stream",
     "text": [
      "GLCM is symmetrical, therefore Sum Average = 2 * Joint Average, only 1 needs to be calculated\n"
     ]
    },
    {
     "name": "stdout",
     "output_type": "stream",
     "text": [
      "161\n"
     ]
    },
    {
     "name": "stderr",
     "output_type": "stream",
     "text": [
      "GLCM is symmetrical, therefore Sum Average = 2 * Joint Average, only 1 needs to be calculated\n"
     ]
    },
    {
     "name": "stdout",
     "output_type": "stream",
     "text": [
      "163\n"
     ]
    },
    {
     "name": "stderr",
     "output_type": "stream",
     "text": [
      "GLCM is symmetrical, therefore Sum Average = 2 * Joint Average, only 1 needs to be calculated\n"
     ]
    },
    {
     "name": "stdout",
     "output_type": "stream",
     "text": [
      "166\n"
     ]
    },
    {
     "name": "stderr",
     "output_type": "stream",
     "text": [
      "GLCM is symmetrical, therefore Sum Average = 2 * Joint Average, only 1 needs to be calculated\n"
     ]
    },
    {
     "name": "stdout",
     "output_type": "stream",
     "text": [
      "168\n"
     ]
    },
    {
     "name": "stderr",
     "output_type": "stream",
     "text": [
      "GLCM is symmetrical, therefore Sum Average = 2 * Joint Average, only 1 needs to be calculated\n"
     ]
    },
    {
     "name": "stdout",
     "output_type": "stream",
     "text": [
      "169\n"
     ]
    },
    {
     "name": "stderr",
     "output_type": "stream",
     "text": [
      "GLCM is symmetrical, therefore Sum Average = 2 * Joint Average, only 1 needs to be calculated\n"
     ]
    },
    {
     "name": "stdout",
     "output_type": "stream",
     "text": [
      "17\n",
      "170\n"
     ]
    },
    {
     "name": "stderr",
     "output_type": "stream",
     "text": [
      "GLCM is symmetrical, therefore Sum Average = 2 * Joint Average, only 1 needs to be calculated\n"
     ]
    },
    {
     "name": "stdout",
     "output_type": "stream",
     "text": [
      "171\n"
     ]
    },
    {
     "name": "stderr",
     "output_type": "stream",
     "text": [
      "GLCM is symmetrical, therefore Sum Average = 2 * Joint Average, only 1 needs to be calculated\n"
     ]
    },
    {
     "name": "stdout",
     "output_type": "stream",
     "text": [
      "175\n"
     ]
    },
    {
     "name": "stderr",
     "output_type": "stream",
     "text": [
      "GLCM is symmetrical, therefore Sum Average = 2 * Joint Average, only 1 needs to be calculated\n"
     ]
    },
    {
     "name": "stdout",
     "output_type": "stream",
     "text": [
      "176\n"
     ]
    },
    {
     "name": "stderr",
     "output_type": "stream",
     "text": [
      "GLCM is symmetrical, therefore Sum Average = 2 * Joint Average, only 1 needs to be calculated\n"
     ]
    },
    {
     "name": "stdout",
     "output_type": "stream",
     "text": [
      "178\n"
     ]
    },
    {
     "name": "stderr",
     "output_type": "stream",
     "text": [
      "GLCM is symmetrical, therefore Sum Average = 2 * Joint Average, only 1 needs to be calculated\n"
     ]
    },
    {
     "name": "stdout",
     "output_type": "stream",
     "text": [
      "182\n"
     ]
    },
    {
     "name": "stderr",
     "output_type": "stream",
     "text": [
      "GLCM is symmetrical, therefore Sum Average = 2 * Joint Average, only 1 needs to be calculated\n"
     ]
    },
    {
     "name": "stdout",
     "output_type": "stream",
     "text": [
      "183\n"
     ]
    },
    {
     "name": "stderr",
     "output_type": "stream",
     "text": [
      "GLCM is symmetrical, therefore Sum Average = 2 * Joint Average, only 1 needs to be calculated\n"
     ]
    },
    {
     "name": "stdout",
     "output_type": "stream",
     "text": [
      "188\n"
     ]
    },
    {
     "name": "stderr",
     "output_type": "stream",
     "text": [
      "GLCM is symmetrical, therefore Sum Average = 2 * Joint Average, only 1 needs to be calculated\n"
     ]
    },
    {
     "name": "stdout",
     "output_type": "stream",
     "text": [
      "189\n"
     ]
    },
    {
     "name": "stderr",
     "output_type": "stream",
     "text": [
      "GLCM is symmetrical, therefore Sum Average = 2 * Joint Average, only 1 needs to be calculated\n"
     ]
    },
    {
     "name": "stdout",
     "output_type": "stream",
     "text": [
      "190\n"
     ]
    },
    {
     "name": "stderr",
     "output_type": "stream",
     "text": [
      "GLCM is symmetrical, therefore Sum Average = 2 * Joint Average, only 1 needs to be calculated\n"
     ]
    },
    {
     "name": "stdout",
     "output_type": "stream",
     "text": [
      "197\n"
     ]
    },
    {
     "name": "stderr",
     "output_type": "stream",
     "text": [
      "GLCM is symmetrical, therefore Sum Average = 2 * Joint Average, only 1 needs to be calculated\n"
     ]
    },
    {
     "name": "stdout",
     "output_type": "stream",
     "text": [
      "199\n"
     ]
    },
    {
     "name": "stderr",
     "output_type": "stream",
     "text": [
      "GLCM is symmetrical, therefore Sum Average = 2 * Joint Average, only 1 needs to be calculated\n"
     ]
    },
    {
     "name": "stdout",
     "output_type": "stream",
     "text": [
      "200\n",
      "205\n"
     ]
    },
    {
     "name": "stderr",
     "output_type": "stream",
     "text": [
      "GLCM is symmetrical, therefore Sum Average = 2 * Joint Average, only 1 needs to be calculated\n"
     ]
    },
    {
     "name": "stdout",
     "output_type": "stream",
     "text": [
      "22\n"
     ]
    },
    {
     "name": "stderr",
     "output_type": "stream",
     "text": [
      "GLCM is symmetrical, therefore Sum Average = 2 * Joint Average, only 1 needs to be calculated\n"
     ]
    },
    {
     "name": "stdout",
     "output_type": "stream",
     "text": [
      "23\n"
     ]
    },
    {
     "name": "stderr",
     "output_type": "stream",
     "text": [
      "GLCM is symmetrical, therefore Sum Average = 2 * Joint Average, only 1 needs to be calculated\n"
     ]
    },
    {
     "name": "stdout",
     "output_type": "stream",
     "text": [
      "24\n"
     ]
    },
    {
     "name": "stderr",
     "output_type": "stream",
     "text": [
      "GLCM is symmetrical, therefore Sum Average = 2 * Joint Average, only 1 needs to be calculated\n"
     ]
    },
    {
     "name": "stdout",
     "output_type": "stream",
     "text": [
      "25\n"
     ]
    },
    {
     "name": "stderr",
     "output_type": "stream",
     "text": [
      "GLCM is symmetrical, therefore Sum Average = 2 * Joint Average, only 1 needs to be calculated\n"
     ]
    },
    {
     "name": "stdout",
     "output_type": "stream",
     "text": [
      "26\n"
     ]
    },
    {
     "name": "stderr",
     "output_type": "stream",
     "text": [
      "GLCM is symmetrical, therefore Sum Average = 2 * Joint Average, only 1 needs to be calculated\n"
     ]
    },
    {
     "name": "stdout",
     "output_type": "stream",
     "text": [
      "27\n"
     ]
    },
    {
     "name": "stderr",
     "output_type": "stream",
     "text": [
      "GLCM is symmetrical, therefore Sum Average = 2 * Joint Average, only 1 needs to be calculated\n"
     ]
    },
    {
     "name": "stdout",
     "output_type": "stream",
     "text": [
      "29\n"
     ]
    },
    {
     "name": "stderr",
     "output_type": "stream",
     "text": [
      "GLCM is symmetrical, therefore Sum Average = 2 * Joint Average, only 1 needs to be calculated\n"
     ]
    },
    {
     "name": "stdout",
     "output_type": "stream",
     "text": [
      "30\n"
     ]
    },
    {
     "name": "stderr",
     "output_type": "stream",
     "text": [
      "GLCM is symmetrical, therefore Sum Average = 2 * Joint Average, only 1 needs to be calculated\n"
     ]
    },
    {
     "name": "stdout",
     "output_type": "stream",
     "text": [
      "31\n"
     ]
    },
    {
     "name": "stderr",
     "output_type": "stream",
     "text": [
      "GLCM is symmetrical, therefore Sum Average = 2 * Joint Average, only 1 needs to be calculated\n"
     ]
    },
    {
     "name": "stdout",
     "output_type": "stream",
     "text": [
      "33\n"
     ]
    },
    {
     "name": "stderr",
     "output_type": "stream",
     "text": [
      "GLCM is symmetrical, therefore Sum Average = 2 * Joint Average, only 1 needs to be calculated\n"
     ]
    },
    {
     "name": "stdout",
     "output_type": "stream",
     "text": [
      "35\n"
     ]
    },
    {
     "name": "stderr",
     "output_type": "stream",
     "text": [
      "GLCM is symmetrical, therefore Sum Average = 2 * Joint Average, only 1 needs to be calculated\n"
     ]
    },
    {
     "name": "stdout",
     "output_type": "stream",
     "text": [
      "36\n"
     ]
    },
    {
     "name": "stderr",
     "output_type": "stream",
     "text": [
      "GLCM is symmetrical, therefore Sum Average = 2 * Joint Average, only 1 needs to be calculated\n"
     ]
    },
    {
     "name": "stdout",
     "output_type": "stream",
     "text": [
      "38\n"
     ]
    },
    {
     "name": "stderr",
     "output_type": "stream",
     "text": [
      "GLCM is symmetrical, therefore Sum Average = 2 * Joint Average, only 1 needs to be calculated\n"
     ]
    },
    {
     "name": "stdout",
     "output_type": "stream",
     "text": [
      "39\n"
     ]
    },
    {
     "name": "stderr",
     "output_type": "stream",
     "text": [
      "GLCM is symmetrical, therefore Sum Average = 2 * Joint Average, only 1 needs to be calculated\n"
     ]
    },
    {
     "name": "stdout",
     "output_type": "stream",
     "text": [
      "41\n"
     ]
    },
    {
     "name": "stderr",
     "output_type": "stream",
     "text": [
      "GLCM is symmetrical, therefore Sum Average = 2 * Joint Average, only 1 needs to be calculated\n"
     ]
    },
    {
     "name": "stdout",
     "output_type": "stream",
     "text": [
      "42\n"
     ]
    },
    {
     "name": "stderr",
     "output_type": "stream",
     "text": [
      "GLCM is symmetrical, therefore Sum Average = 2 * Joint Average, only 1 needs to be calculated\n"
     ]
    },
    {
     "name": "stdout",
     "output_type": "stream",
     "text": [
      "43\n"
     ]
    },
    {
     "name": "stderr",
     "output_type": "stream",
     "text": [
      "GLCM is symmetrical, therefore Sum Average = 2 * Joint Average, only 1 needs to be calculated\n"
     ]
    },
    {
     "name": "stdout",
     "output_type": "stream",
     "text": [
      "44\n"
     ]
    },
    {
     "name": "stderr",
     "output_type": "stream",
     "text": [
      "GLCM is symmetrical, therefore Sum Average = 2 * Joint Average, only 1 needs to be calculated\n"
     ]
    },
    {
     "name": "stdout",
     "output_type": "stream",
     "text": [
      "46\n"
     ]
    },
    {
     "name": "stderr",
     "output_type": "stream",
     "text": [
      "GLCM is symmetrical, therefore Sum Average = 2 * Joint Average, only 1 needs to be calculated\n"
     ]
    },
    {
     "name": "stdout",
     "output_type": "stream",
     "text": [
      "47\n"
     ]
    },
    {
     "name": "stderr",
     "output_type": "stream",
     "text": [
      "GLCM is symmetrical, therefore Sum Average = 2 * Joint Average, only 1 needs to be calculated\n"
     ]
    },
    {
     "name": "stdout",
     "output_type": "stream",
     "text": [
      "48\n"
     ]
    },
    {
     "name": "stderr",
     "output_type": "stream",
     "text": [
      "GLCM is symmetrical, therefore Sum Average = 2 * Joint Average, only 1 needs to be calculated\n"
     ]
    },
    {
     "name": "stdout",
     "output_type": "stream",
     "text": [
      "5\n"
     ]
    },
    {
     "name": "stderr",
     "output_type": "stream",
     "text": [
      "GLCM is symmetrical, therefore Sum Average = 2 * Joint Average, only 1 needs to be calculated\n"
     ]
    },
    {
     "name": "stdout",
     "output_type": "stream",
     "text": [
      "50\n"
     ]
    },
    {
     "name": "stderr",
     "output_type": "stream",
     "text": [
      "GLCM is symmetrical, therefore Sum Average = 2 * Joint Average, only 1 needs to be calculated\n"
     ]
    },
    {
     "name": "stdout",
     "output_type": "stream",
     "text": [
      "52\n"
     ]
    },
    {
     "name": "stderr",
     "output_type": "stream",
     "text": [
      "GLCM is symmetrical, therefore Sum Average = 2 * Joint Average, only 1 needs to be calculated\n"
     ]
    },
    {
     "name": "stdout",
     "output_type": "stream",
     "text": [
      "53\n"
     ]
    },
    {
     "name": "stderr",
     "output_type": "stream",
     "text": [
      "GLCM is symmetrical, therefore Sum Average = 2 * Joint Average, only 1 needs to be calculated\n"
     ]
    },
    {
     "name": "stdout",
     "output_type": "stream",
     "text": [
      "54\n"
     ]
    },
    {
     "name": "stderr",
     "output_type": "stream",
     "text": [
      "GLCM is symmetrical, therefore Sum Average = 2 * Joint Average, only 1 needs to be calculated\n"
     ]
    },
    {
     "name": "stdout",
     "output_type": "stream",
     "text": [
      "56\n"
     ]
    },
    {
     "name": "stderr",
     "output_type": "stream",
     "text": [
      "GLCM is symmetrical, therefore Sum Average = 2 * Joint Average, only 1 needs to be calculated\n"
     ]
    },
    {
     "name": "stdout",
     "output_type": "stream",
     "text": [
      "57\n"
     ]
    },
    {
     "name": "stderr",
     "output_type": "stream",
     "text": [
      "GLCM is symmetrical, therefore Sum Average = 2 * Joint Average, only 1 needs to be calculated\n"
     ]
    },
    {
     "name": "stdout",
     "output_type": "stream",
     "text": [
      "58\n"
     ]
    },
    {
     "name": "stderr",
     "output_type": "stream",
     "text": [
      "GLCM is symmetrical, therefore Sum Average = 2 * Joint Average, only 1 needs to be calculated\n"
     ]
    },
    {
     "name": "stdout",
     "output_type": "stream",
     "text": [
      "59\n"
     ]
    },
    {
     "name": "stderr",
     "output_type": "stream",
     "text": [
      "GLCM is symmetrical, therefore Sum Average = 2 * Joint Average, only 1 needs to be calculated\n"
     ]
    },
    {
     "name": "stdout",
     "output_type": "stream",
     "text": [
      "60\n"
     ]
    },
    {
     "name": "stderr",
     "output_type": "stream",
     "text": [
      "GLCM is symmetrical, therefore Sum Average = 2 * Joint Average, only 1 needs to be calculated\n"
     ]
    },
    {
     "name": "stdout",
     "output_type": "stream",
     "text": [
      "61\n"
     ]
    },
    {
     "name": "stderr",
     "output_type": "stream",
     "text": [
      "GLCM is symmetrical, therefore Sum Average = 2 * Joint Average, only 1 needs to be calculated\n"
     ]
    },
    {
     "name": "stdout",
     "output_type": "stream",
     "text": [
      "62\n"
     ]
    },
    {
     "name": "stderr",
     "output_type": "stream",
     "text": [
      "GLCM is symmetrical, therefore Sum Average = 2 * Joint Average, only 1 needs to be calculated\n"
     ]
    },
    {
     "name": "stdout",
     "output_type": "stream",
     "text": [
      "64\n"
     ]
    },
    {
     "name": "stderr",
     "output_type": "stream",
     "text": [
      "GLCM is symmetrical, therefore Sum Average = 2 * Joint Average, only 1 needs to be calculated\n"
     ]
    },
    {
     "name": "stdout",
     "output_type": "stream",
     "text": [
      "65\n"
     ]
    },
    {
     "name": "stderr",
     "output_type": "stream",
     "text": [
      "GLCM is symmetrical, therefore Sum Average = 2 * Joint Average, only 1 needs to be calculated\n"
     ]
    },
    {
     "name": "stdout",
     "output_type": "stream",
     "text": [
      "68\n"
     ]
    },
    {
     "name": "stderr",
     "output_type": "stream",
     "text": [
      "GLCM is symmetrical, therefore Sum Average = 2 * Joint Average, only 1 needs to be calculated\n"
     ]
    },
    {
     "name": "stdout",
     "output_type": "stream",
     "text": [
      "69\n"
     ]
    },
    {
     "name": "stderr",
     "output_type": "stream",
     "text": [
      "GLCM is symmetrical, therefore Sum Average = 2 * Joint Average, only 1 needs to be calculated\n"
     ]
    },
    {
     "name": "stdout",
     "output_type": "stream",
     "text": [
      "70\n"
     ]
    },
    {
     "name": "stderr",
     "output_type": "stream",
     "text": [
      "GLCM is symmetrical, therefore Sum Average = 2 * Joint Average, only 1 needs to be calculated\n"
     ]
    },
    {
     "name": "stdout",
     "output_type": "stream",
     "text": [
      "71\n"
     ]
    },
    {
     "name": "stderr",
     "output_type": "stream",
     "text": [
      "GLCM is symmetrical, therefore Sum Average = 2 * Joint Average, only 1 needs to be calculated\n"
     ]
    },
    {
     "name": "stdout",
     "output_type": "stream",
     "text": [
      "74\n"
     ]
    },
    {
     "name": "stderr",
     "output_type": "stream",
     "text": [
      "GLCM is symmetrical, therefore Sum Average = 2 * Joint Average, only 1 needs to be calculated\n"
     ]
    },
    {
     "name": "stdout",
     "output_type": "stream",
     "text": [
      "75\n"
     ]
    },
    {
     "name": "stderr",
     "output_type": "stream",
     "text": [
      "GLCM is symmetrical, therefore Sum Average = 2 * Joint Average, only 1 needs to be calculated\n"
     ]
    },
    {
     "name": "stdout",
     "output_type": "stream",
     "text": [
      "76\n"
     ]
    },
    {
     "name": "stderr",
     "output_type": "stream",
     "text": [
      "GLCM is symmetrical, therefore Sum Average = 2 * Joint Average, only 1 needs to be calculated\n"
     ]
    },
    {
     "name": "stdout",
     "output_type": "stream",
     "text": [
      "78\n"
     ]
    },
    {
     "name": "stderr",
     "output_type": "stream",
     "text": [
      "GLCM is symmetrical, therefore Sum Average = 2 * Joint Average, only 1 needs to be calculated\n"
     ]
    },
    {
     "name": "stdout",
     "output_type": "stream",
     "text": [
      "79\n"
     ]
    },
    {
     "name": "stderr",
     "output_type": "stream",
     "text": [
      "GLCM is symmetrical, therefore Sum Average = 2 * Joint Average, only 1 needs to be calculated\n"
     ]
    },
    {
     "name": "stdout",
     "output_type": "stream",
     "text": [
      "81\n"
     ]
    },
    {
     "name": "stderr",
     "output_type": "stream",
     "text": [
      "GLCM is symmetrical, therefore Sum Average = 2 * Joint Average, only 1 needs to be calculated\n"
     ]
    },
    {
     "name": "stdout",
     "output_type": "stream",
     "text": [
      "82\n"
     ]
    },
    {
     "name": "stderr",
     "output_type": "stream",
     "text": [
      "GLCM is symmetrical, therefore Sum Average = 2 * Joint Average, only 1 needs to be calculated\n"
     ]
    },
    {
     "name": "stdout",
     "output_type": "stream",
     "text": [
      "84\n"
     ]
    },
    {
     "name": "stderr",
     "output_type": "stream",
     "text": [
      "GLCM is symmetrical, therefore Sum Average = 2 * Joint Average, only 1 needs to be calculated\n"
     ]
    },
    {
     "name": "stdout",
     "output_type": "stream",
     "text": [
      "85\n"
     ]
    },
    {
     "name": "stderr",
     "output_type": "stream",
     "text": [
      "GLCM is symmetrical, therefore Sum Average = 2 * Joint Average, only 1 needs to be calculated\n"
     ]
    },
    {
     "name": "stdout",
     "output_type": "stream",
     "text": [
      "86\n"
     ]
    },
    {
     "name": "stderr",
     "output_type": "stream",
     "text": [
      "GLCM is symmetrical, therefore Sum Average = 2 * Joint Average, only 1 needs to be calculated\n"
     ]
    },
    {
     "name": "stdout",
     "output_type": "stream",
     "text": [
      "87\n"
     ]
    },
    {
     "name": "stderr",
     "output_type": "stream",
     "text": [
      "GLCM is symmetrical, therefore Sum Average = 2 * Joint Average, only 1 needs to be calculated\n"
     ]
    },
    {
     "name": "stdout",
     "output_type": "stream",
     "text": [
      "89\n"
     ]
    },
    {
     "name": "stderr",
     "output_type": "stream",
     "text": [
      "GLCM is symmetrical, therefore Sum Average = 2 * Joint Average, only 1 needs to be calculated\n"
     ]
    },
    {
     "name": "stdout",
     "output_type": "stream",
     "text": [
      "90\n"
     ]
    },
    {
     "name": "stderr",
     "output_type": "stream",
     "text": [
      "GLCM is symmetrical, therefore Sum Average = 2 * Joint Average, only 1 needs to be calculated\n"
     ]
    },
    {
     "name": "stdout",
     "output_type": "stream",
     "text": [
      "91\n"
     ]
    },
    {
     "name": "stderr",
     "output_type": "stream",
     "text": [
      "GLCM is symmetrical, therefore Sum Average = 2 * Joint Average, only 1 needs to be calculated\n"
     ]
    },
    {
     "name": "stdout",
     "output_type": "stream",
     "text": [
      "92\n"
     ]
    },
    {
     "name": "stderr",
     "output_type": "stream",
     "text": [
      "GLCM is symmetrical, therefore Sum Average = 2 * Joint Average, only 1 needs to be calculated\n"
     ]
    },
    {
     "name": "stdout",
     "output_type": "stream",
     "text": [
      "94\n"
     ]
    },
    {
     "name": "stderr",
     "output_type": "stream",
     "text": [
      "GLCM is symmetrical, therefore Sum Average = 2 * Joint Average, only 1 needs to be calculated\n"
     ]
    },
    {
     "name": "stdout",
     "output_type": "stream",
     "text": [
      "95\n"
     ]
    },
    {
     "name": "stderr",
     "output_type": "stream",
     "text": [
      "GLCM is symmetrical, therefore Sum Average = 2 * Joint Average, only 1 needs to be calculated\n"
     ]
    },
    {
     "name": "stdout",
     "output_type": "stream",
     "text": [
      "96\n"
     ]
    },
    {
     "name": "stderr",
     "output_type": "stream",
     "text": [
      "GLCM is symmetrical, therefore Sum Average = 2 * Joint Average, only 1 needs to be calculated\n"
     ]
    },
    {
     "name": "stdout",
     "output_type": "stream",
     "text": [
      "98\n"
     ]
    },
    {
     "name": "stderr",
     "output_type": "stream",
     "text": [
      "GLCM is symmetrical, therefore Sum Average = 2 * Joint Average, only 1 needs to be calculated\n"
     ]
    }
   ],
   "source": [
    "import os\n",
    "import radiomics\n",
    "from radiomics import featureextractor\n",
    "import numpy as np\n",
    "import nrrd\n",
    "\n",
    "# Percorsi delle cartelle\n",
    "pazienti_dir = 'C:\\\\Users\\\\bsbar\\\\Desktop\\\\pazienti_nrrd'\n",
    "roi_dir = 'C:\\\\Users\\\\bsbar\\\\Desktop\\\\Tesi\\\\ROI'\n",
    "\n",
    "cartelle_da_saltare = ['19', '40', '88', '150', '193', '107']\n",
    "\n",
    "# Lista per i vettori delle features e i nomi dei pazienti\n",
    "feature_vectors = []\n",
    "patient_names = []\n",
    "dimension_mismatch = []\n",
    "\n",
    "# Configurazione dell'estrattore radiomico\n",
    "settings = {\n",
    "    'binWidth': 25,\n",
    "    'resampledPixelSpacing': None,\n",
    "    'interpolator': 'sitkBSpline',\n",
    "    'enableCExtensions': True\n",
    "}\n",
    "\n",
    "# Seleziona esplicitamente quali feature estrarre\n",
    "enabled_features = {\n",
    "    'firstorder': [],\n",
    "    'shape': [],\n",
    "    'glcm': [],\n",
    "    'gldm': [],\n",
    "    'glrlm': [],\n",
    "    'glszm': [],\n",
    "    'ngtdm': [],\n",
    "}\n",
    "\n",
    "# Aggiungi i filtri, inclusa la wavelet\n",
    "enabled_image_types = {\n",
    "    'Original': {},  # Usa l'immagine originale\n",
    "    'Wavelet': {},   # Aggiungi il filtro wavelet\n",
    "    'LoG': {}        # Aggiungi anche il filtro LoG se vuoi testarlo\n",
    "}\n",
    "\n",
    "# Inizializza l'estrattore con queste configurazioni\n",
    "estrattore = featureextractor.RadiomicsFeatureExtractor(\n",
    "    settings, enabled_image_types, enabled_features\n",
    ")\n",
    "\n",
    "# Funzione per trovare il file .nrrd in una cartella\n",
    "def trova_nrrd_file(cartella):\n",
    "    for file in os.listdir(cartella):\n",
    "        if file.endswith('.nrrd'):\n",
    "            return os.path.join(cartella, file)\n",
    "    return None\n",
    "\n",
    "# Funzione per verificare le dimensioni delle immagini\n",
    "def verifica_dimensioni(immagine_file, maschera_file):\n",
    "    immagine, _ = nrrd.read(immagine_file)\n",
    "    maschera, _ = nrrd.read(maschera_file)\n",
    "    return immagine.shape == maschera.shape\n",
    "\n",
    "# Itera su tutti i pazienti\n",
    "for paziente in sorted(os.listdir(pazienti_dir)):\n",
    "    print(paziente)\n",
    "    if paziente in cartelle_da_saltare:\n",
    "        print(f\"Saltata la cartella del paziente {paziente}\")\n",
    "        continue  # Salta questa iterazione e passa al paziente successivo\n",
    "    \n",
    "    # Verifica se la cartella esiste anche per le ROI\n",
    "    roi_paziente_dir = os.path.join(roi_dir, paziente)\n",
    "    paziente_dir = os.path.join(pazienti_dir, paziente)\n",
    "\n",
    "    if os.path.isdir(roi_paziente_dir):\n",
    "        # Trova i file immagine e maschera nella rispettiva cartella\n",
    "        immagine_file = trova_nrrd_file(paziente_dir)\n",
    "        maschera_file = trova_nrrd_file(roi_paziente_dir)\n",
    "     \n",
    "        if immagine_file and maschera_file:\n",
    "            # Verifica se le dimensioni delle immagini e delle ROI corrispondono\n",
    "            if verifica_dimensioni(immagine_file, maschera_file):\n",
    "                # Aggiungi il nome del paziente alla lista\n",
    "                patient_names.append(paziente)\n",
    "\n",
    "                # Estrai le features radiomiche, incluse quelle wavelet e LoG, direttamente dall'immagine e dalla maschera\n",
    "                results = estrattore.execute(immagine_file, maschera_file)\n",
    "\n",
    "                # Trasforma i risultati in un vettore di features\n",
    "                feature_vector = np.array([value.item() if isinstance(value, np.ndarray) else value \n",
    "                           for key, value in results.items() \n",
    "                           if isinstance(value, (float, int, np.ndarray))])\n",
    "                \n",
    "                # Aggiungi il vettore delle features alla lista\n",
    "                feature_vectors.append(feature_vector)\n",
    "                \n",
    "            else:\n",
    "                # Aggiungi il nome del paziente e un messaggio di errore alla lista delle dimensioni non corrispondenti\n",
    "                dimension_mismatch.append(paziente)\n",
    "\n",
    "# Trasforma la lista di vettori in un array numpy\n",
    "feature_matrix = np.array(feature_vectors)\n",
    "\n",
    "# Ora hai:\n",
    "# - 'feature_matrix': una matrice dove ogni riga è il vettore di features di un paziente\n",
    "# - 'patient_names': una lista dei nomi dei pazienti corrispondente\n",
    "# - 'dimension_mismatch': una lista dei nomi dei pazienti con dimensioni non corrispondenti"
   ]
  },
  {
   "cell_type": "markdown",
   "metadata": {},
   "source": [
    "## Funzioni utili"
   ]
  },
  {
   "cell_type": "code",
   "execution_count": 39,
   "metadata": {},
   "outputs": [],
   "source": [
    "# Funzione per visualizzare una sezione specifica di un blocco 3D\n",
    "def visualizza_blocco(blocco, sezione=None):\n",
    "    if sezione is None:\n",
    "        sezione = blocco.shape[2] // 2  # Visualizza la sezione centrale per default\n",
    "    \n",
    "    # Visualizza la sezione specifica del blocco\n",
    "    plt.imshow(blocco[:, :, 11], cmap='gray')\n",
    "    plt.title(f\"Blocco - Sezione {sezione}\")\n",
    "    plt.axis('off')  # Nascondi gli assi\n",
    "    plt.show()\n",
    "\n",
    "# Funzione per trovare il file .nrrd in una cartella\n",
    "def trova_nrrd_file(cartella):\n",
    "    for file in os.listdir(cartella):\n",
    "        if file.endswith('.nrrd'):\n",
    "            return os.path.join(cartella, file)\n",
    "    return None\n",
    "\n",
    "# Funzione per caricare il volume 3D delle immagini\n",
    "def carica_volume_paziente(cartella_paziente):\n",
    "    sezioni = []  # Lista per conservare le singole sezioni 2D\n",
    "    for file in sorted(os.listdir(cartella_paziente)):\n",
    "        if file.endswith('.nrrd'):\n",
    "            # Leggi la sezione 2D\n",
    "            immagine, _ = nrrd.read(os.path.join(cartella_paziente, file))\n",
    "            sezioni.append(immagine)  # Aggiungi la sezione alla lista\n",
    "    # Stack delle sezioni per formare un volume 3D (asse delle sezioni = asse z)\n",
    "    volume_3d = np.stack(sezioni, axis=-1)\n",
    "    return volume_3d\n",
    "\n",
    "# Funzione per suddividere il volume in blocchi 3D\n",
    "def suddividi_volume(volume_3d, dimensione_blocco=(16, 16, 16)):\n",
    "    # Verifica se le dimensioni del volume sono divisibili esattamente per il blocco\n",
    "    shape_volume = np.array(volume_3d.shape)\n",
    "    if np.any(shape_volume % np.array(dimensione_blocco) != 0):\n",
    "        raise ValueError(\"Le dimensioni del volume non sono divisibili esattamente per il blocco 3D.\")\n",
    "    \n",
    "    # Usa view_as_blocks per suddividere il volume in blocchi 3D\n",
    "    blocchi = view_as_blocks(volume_3d, block_shape=dimensione_blocco)\n",
    "    \n",
    "    # Riorganizza i blocchi in una lista di blocchi singoli\n",
    "    blocchi_risagomati = blocchi.reshape(-1, *dimensione_blocco)\n",
    "    return blocchi_risagomati\n",
    "\n",
    "# Funzione per convertire un array NumPy in un oggetto SimpleITK\n",
    "def numpy_to_sitk(volume_numpy):\n",
    "    return sitk.GetImageFromArray(volume_numpy)\n",
    "\n",
    "# Funzione per verificare se la maschera ha valori non nulli\n",
    "def verifica_maschera_valida(maschera):\n",
    "    return np.any(maschera > 0)\n",
    "\n",
    "\n",
    "def riduci_slice(volume_3d, target_slices=512):\n",
    "    slice_correnti = volume_3d.shape[-1]\n",
    "    \n",
    "    if slice_correnti < target_slices:\n",
    "        slice_da_aggiungere = target_slices - slice_correnti\n",
    "        slice_inizio = slice_da_aggiungere // 2\n",
    "        slice_fine = slice_da_aggiungere - slice_inizio\n",
    "        padding = ((0, 0), (0, 0), (slice_inizio, slice_fine))\n",
    "        volume_pad = np.pad(volume_3d, pad_width=padding, mode='constant', constant_values=0)\n",
    "        return volume_pad\n",
    "\n",
    "    elif slice_correnti > target_slices:\n",
    "        slice_da_rimuovere = slice_correnti - target_slices\n",
    "        slice_inizio = slice_da_rimuovere // 2\n",
    "        slice_fine = slice_da_rimuovere - slice_inizio\n",
    "        volume_ridotto = volume_3d[:, :, slice_inizio:slice_correnti-slice_fine]\n",
    "        return volume_ridotto\n",
    "\n",
    "    else:\n",
    "        return volume_3d\n",
    "\n",
    "# Funzione per suddividere sia la placca che la maschera\n",
    "def suddividi_placca_maschera(volume_3d, maschera, dimensione_blocco=(32, 32, 32)):\n",
    "    # Applica la maschera per estrarre solo la parte della placca\n",
    "    placca = np.where(maschera > 0, volume_3d, 0)\n",
    "    \n",
    "    # Verifica se le dimensioni della placca e della maschera sono divisibili esattamente per il blocco\n",
    "    shape_placca = np.array(placca.shape)\n",
    "    shape_maschera = np.array(maschera.shape)\n",
    "    if np.any(shape_placca % np.array(dimensione_blocco) != 0) or np.any(shape_maschera % np.array(dimensione_blocco) != 0):\n",
    "        raise ValueError(\"Le dimensioni della placca o della maschera non sono divisibili esattamente per il blocco 3D.\")\n",
    "    \n",
    "    # Suddividi in blocchi sia la placca che la maschera\n",
    "    blocchi_placca = view_as_blocks(placca, block_shape=dimensione_blocco)\n",
    "    blocchi_maschera = view_as_blocks(maschera, block_shape=dimensione_blocco)\n",
    "    \n",
    "    # Riorganizza i blocchi in liste di blocchi singoli\n",
    "    blocchi_placca_risagomati = blocchi_placca.reshape(-1, *dimensione_blocco)\n",
    "    blocchi_maschera_risagomati = blocchi_maschera.reshape(-1, *dimensione_blocco)\n",
    "    \n",
    "    return blocchi_placca_risagomati, blocchi_maschera_risagomati\n",
    "\n",
    "def visualizza_segmenti_bw(slice_2d, segments):\n",
    "    \"\"\"\n",
    "    Visualizza una slice 2D e i segmenti creati da slic.\n",
    "    \"\"\"\n",
    "    # Crea una mappa di colori per i segmenti\n",
    "    segmenti_colorati = np.zeros_like(slice_2d, dtype=np.uint8)\n",
    "    \n",
    "    # Mappa i segmenti a colori\n",
    "    for label in np.unique(segments):\n",
    "        if label == 0:\n",
    "            continue  # Ignora il background\n",
    "        segmenti_colorati[segments == label] = label\n",
    "\n",
    "    plt.figure(figsize=(10, 5))\n",
    "\n",
    "    # Visualizza la slice originale in bianco e nero\n",
    "    plt.subplot(1, 2, 1)\n",
    "    plt.imshow(slice_2d, cmap='gray')\n",
    "    plt.title(\"Slice Originale\")\n",
    "    plt.axis('off')\n",
    "\n",
    "    # Visualizza i segmenti sovrapposti alla slice originale\n",
    "    plt.subplot(1, 2, 2)\n",
    "    plt.imshow(segmenti_colorati, cmap='nipy_spectral', interpolation='none')  # Cambia la mappa di colori se necessario\n",
    "    plt.title(\"Segmenti\")\n",
    "    plt.axis('off')\n",
    "\n",
    "    plt.show()\n",
    "\n",
    "def trova_centro_placca(slice_img):\n",
    "    # Trova i pixel non neri\n",
    "    non_neri = np.nonzero(slice_img)\n",
    "    \n",
    "    if len(non_neri[0]) == 0:\n",
    "        return None  # Nessun pixel non nero trovato\n",
    "    \n",
    "    # Calcola il centro della placca\n",
    "    centro = np.mean(non_neri, axis=1).astype(int)\n",
    "    return centro\n",
    "\n",
    "def ritaglia_immagine(slice_img, centro, dimensione=64):\n",
    "    x, y = centro\n",
    "    h, w = slice_img.shape\n",
    "    \n",
    "    # Definisci i limiti della finestra\n",
    "    x1 = max(0, x - dimensione // 2)\n",
    "    x2 = min(h, x + dimensione // 2)\n",
    "    y1 = max(0, y - dimensione // 2)\n",
    "    y2 = min(w, y + dimensione // 2)\n",
    "    \n",
    "    # Assicurati che la finestra sia della dimensione richiesta\n",
    "    if x2 - x1 < dimensione:\n",
    "        if x1 == 0:\n",
    "            x2 = min(dimensione, h)\n",
    "        else:\n",
    "            x1 = max(0, x2 - dimensione)\n",
    "    \n",
    "    if y2 - y1 < dimensione:\n",
    "        if y1 == 0:\n",
    "            y2 = min(dimensione, w)\n",
    "        else:\n",
    "            y1 = max(0, y2 - dimensione)\n",
    "    \n",
    "    # Ritaglia l'immagine\n",
    "    ritagliata = slice_img[x1:x2, y1:y2]\n",
    "    return ritagliata\n",
    "\n",
    "\n",
    "# Funzione per applicare la maschera e segmentare con supervoxel\n",
    "def segmenta_placca(volume_3d, maschera_placca, dimensione_supervoxel=(64, 64, 64)):\n",
    "    # Maschera il volume per mantenere solo la placca\n",
    "    volume_placca = np.where(maschera_placca > 0, volume_3d, 0)\n",
    "    \n",
    "    # Inizializza la lista per i segmenti\n",
    "    segmenti = np.zeros(volume_placca.shape, dtype=np.uint32)\n",
    "    \n",
    "    # Applica supervoxel solo dove c'è la placca\n",
    "    for z in range(volume_placca.shape[2]):\n",
    "        slice_placca = volume_placca[:, :, z]\n",
    "        if np.any(slice_placca):\n",
    "            new_placca = ritaglia_immagine(slice_placca, trova_centro_placca(slice_placca))\n",
    "            \n",
    "            segments = slic(new_placca, n_segments=500, compactness=10, sigma=1, channel_axis=None)\n",
    "            \n",
    "            visualizza_segmenti_bw(new_placca, segments)\n",
    "            segmenti[:, :, z] = segments\n",
    "    \n",
    "    return segmenti\n",
    "\n",
    "# Funzione per visualizzare una sezione specifica\n",
    "def visualizza_segmenti(segmenti, volume, sezione=None):\n",
    "    if sezione is None:\n",
    "        sezione = volume.shape[2] // 2  # Sezione centrale per default\n",
    "    \n",
    "    # Estrai la sezione dell'immagine e dei segmenti\n",
    "    img = volume[:, :, sezione]\n",
    "    seg = segmenti[:, :, sezione]\n",
    "    \n",
    "    # Usa label2rgb per visualizzare i segmenti\n",
    "    img_rgb = label2rgb(seg, image=img, bg_label=0)\n",
    "    \n",
    "    # Assicurati che img_rgb sia nel range [0, 1]\n",
    "    img_rgb = np.clip(img_rgb, 0, 1)\n",
    "    \n",
    "    plt.figure(figsize=(10, 5))\n",
    "    plt.subplot(1, 2, 1)\n",
    "    plt.imshow(img, cmap='gray')\n",
    "    plt.title(f\"Immagine - Sezione {sezione}\")\n",
    "    plt.axis('off')\n",
    "\n",
    "    plt.subplot(1, 2, 2)\n",
    "    plt.imshow(img_rgb)\n",
    "    plt.title(f\"Segmenti - Sezione {sezione}\")\n",
    "    plt.axis('off')\n",
    "\n",
    "    plt.show()\n",
    "\n",
    "\n"
   ]
  },
  {
   "cell_type": "markdown",
   "metadata": {},
   "source": [
    "## Features Area"
   ]
  },
  {
   "cell_type": "code",
   "execution_count": null,
   "metadata": {},
   "outputs": [],
   "source": [
    "\n",
    "# Percorsi delle cartelle\n",
    "pazienti_dir = 'C:\\\\Users\\\\bsbar\\\\Desktop\\\\pazienti_nrrd'\n",
    "roi_dir = 'C:\\\\Users\\\\bsbar\\\\Desktop\\\\Tesi\\\\ROI'\n",
    "\n",
    "# Cartelle da saltare\n",
    "cartelle_da_saltare = ['19', '40', '88', '150', '193']\n",
    "\n",
    "# Lista per i vettori delle features e i nomi dei pazienti\n",
    "feature_vectors = []\n",
    "patient_names = []\n",
    "blocchi_numeri = []\n",
    "dimension_mismatch = []\n",
    "\n",
    "# Imposta l'estrattore radiomico\n",
    "estrattore = featureextractor.RadiomicsFeatureExtractor()\n",
    "\n",
    "\n",
    "# Funzione per estrarre le features da ciascun blocco\n",
    "def estrai_features_blocchi(blocchi, maschere):\n",
    "    feature_vectors = []\n",
    "    blocchi_successo = []\n",
    "    feature_names = None\n",
    "    \n",
    "    for i, (blocco, maschera) in enumerate(zip(blocchi, maschere)):\n",
    "        if not verifica_maschera_valida(maschera):\n",
    "            continue\n",
    "        \n",
    "        if blocco.ndim < 3 or maschera.ndim < 3:\n",
    "            continue\n",
    "        \n",
    "        sitk_blocco = numpy_to_sitk(blocco)\n",
    "        sitk_maschera = numpy_to_sitk(maschera)\n",
    "        \n",
    "        try:\n",
    "            results = estrattore.execute(sitk_blocco, sitk_maschera)\n",
    "            if feature_names is None:\n",
    "                feature_names = list(results.keys())\n",
    "                \n",
    "            feature_vector = [results.get(key, np.nan) for key in feature_names]\n",
    "            feature_vectors.append(feature_vector)\n",
    "            blocchi_successo.append(i)\n",
    "\n",
    "            # Visualizza il blocco processato con successo\n",
    "            #print(f\"Visualizzazione del blocco {i+1} (processato con successo)\")\n",
    "            #visualizza_blocco(blocco)  # Visualizza la sezione centrale del blocco\n",
    "\n",
    "        except ValueError as e:\n",
    "            print(f\"Errore durante l'estrazione delle features per il blocco {i}: {e}\")\n",
    "            continue\n",
    "\n",
    "    return feature_vectors, blocchi_successo, feature_names\n",
    "\n",
    "\n",
    "# Itera su tutti i pazienti\n",
    "for paziente in sorted(os.listdir(pazienti_dir)):\n",
    "    if paziente in cartelle_da_saltare:\n",
    "        print(f\"Saltando paziente: {paziente}\")\n",
    "        continue\n",
    "\n",
    "    print(f\"Processando paziente: {paziente}\")\n",
    "    \n",
    "    immagine_file = trova_nrrd_file(os.path.join(pazienti_dir, paziente))\n",
    "    maschera_file = trova_nrrd_file(os.path.join(roi_dir, paziente))\n",
    "    \n",
    "    if immagine_file and maschera_file:\n",
    "        volume_placca = carica_volume_paziente(os.path.join(pazienti_dir, paziente))\n",
    "        volume_maschera = carica_volume_paziente(os.path.join(roi_dir, paziente))\n",
    "        \n",
    "        if volume_placca.shape == volume_maschera.shape:\n",
    "            if len(volume_placca.shape) == 4:\n",
    "                volume_placca = np.squeeze(volume_placca, axis = -1)\n",
    "                volume_maschera = np.squeeze(volume_maschera, axis = -1)\n",
    "\n",
    "            if volume_placca.shape[2] != 512:\n",
    "                volume_placca = riduci_slice(volume_placca)\n",
    "                volume_maschera = riduci_slice(volume_maschera)\n",
    "\n",
    "            # Suddividi sia la placca che la maschera\n",
    "            blocchi_placca, blocchi_maschera = suddividi_placca_maschera(volume_placca, volume_maschera, dimensione_blocco=(16, 16, 16))\n",
    "            \n",
    "            # Estrai le features dai blocchi di placca e dalle corrispondenti maschere\n",
    "            features_blocchi, blocchi_successo, feature_names = estrai_features_blocchi(blocchi_placca, blocchi_maschera)\n",
    "            \n",
    "            for blocco, features in zip(blocchi_successo, features_blocchi):\n",
    "                feature_vectors.append(features)\n",
    "                patient_names.append(paziente)\n",
    "                blocchi_numeri.append(blocco)\n",
    "        else:\n",
    "            print(f\"Dimensioni non corrispondenti per il paziente {paziente}\")\n",
    "            dimension_mismatch.append(paziente)\n",
    "    else:\n",
    "        print(f\"File mancanti per il paziente {paziente}\")\n",
    "\n",
    "# Crea un DataFrame e salva come CSV\n",
    "df = pd.DataFrame(feature_vectors, columns=feature_names)\n",
    "df.insert(0, 'paziente', patient_names)\n",
    "df.insert(1, 'blocco', blocchi_numeri)\n",
    "\n",
    "# Salva il DataFrame in un file CSV\n",
    "#df.to_csv('features_radiomiche_blocchi.csv', index=False)"
   ]
  },
  {
   "cell_type": "markdown",
   "metadata": {},
   "source": [
    "## SuperVoxel"
   ]
  },
  {
   "cell_type": "code",
   "execution_count": 40,
   "metadata": {},
   "outputs": [
    {
     "name": "stdout",
     "output_type": "stream",
     "text": [
      "Processando paziente: 100\n"
     ]
    },
    {
     "data": {
      "image/png": "[encoded data removed]",
      "text/plain": [
       "<Figure size 1000x500 with 2 Axes>"
      ]
     },
     "metadata": {},
     "output_type": "display_data"
    },
    {
     "ename": "ValueError",
     "evalue": "could not broadcast input array from shape (64,64) into shape (512,512)",
     "output_type": "error",
     "traceback": [
      "\u001b[1;31m---------------------------------------------------------------------------\u001b[0m",
      "\u001b[1;31mValueError\u001b[0m                                Traceback (most recent call last)",
      "Cell \u001b[1;32mIn[40], line 77\u001b[0m\n\u001b[0;32m     74\u001b[0m     maschera_placca \u001b[38;5;241m=\u001b[39m riduci_slice(maschera_placca)\n\u001b[0;32m     76\u001b[0m \u001b[38;5;66;03m# Segmenta la placca\u001b[39;00m\n\u001b[1;32m---> 77\u001b[0m segmenti \u001b[38;5;241m=\u001b[39m \u001b[43msegmenta_placca\u001b[49m\u001b[43m(\u001b[49m\u001b[43mvolume_placca\u001b[49m\u001b[43m,\u001b[49m\u001b[43m \u001b[49m\u001b[43mmaschera_placca\u001b[49m\u001b[43m)\u001b[49m\n\u001b[0;32m     79\u001b[0m \u001b[38;5;66;03m# Visualizza una sezione del volume segmentato\u001b[39;00m\n\u001b[0;32m     80\u001b[0m visualizza_segmenti(segmenti, volume_placca)\n",
      "Cell \u001b[1;32mIn[39], line 181\u001b[0m, in \u001b[0;36msegmenta_placca\u001b[1;34m(volume_3d, maschera_placca, dimensione_supervoxel)\u001b[0m\n\u001b[0;32m    178\u001b[0m         segments \u001b[38;5;241m=\u001b[39m slic(new_placca, n_segments\u001b[38;5;241m=\u001b[39m\u001b[38;5;241m500\u001b[39m, compactness\u001b[38;5;241m=\u001b[39m\u001b[38;5;241m10\u001b[39m, sigma\u001b[38;5;241m=\u001b[39m\u001b[38;5;241m1\u001b[39m, channel_axis\u001b[38;5;241m=\u001b[39m\u001b[38;5;28;01mNone\u001b[39;00m)\n\u001b[0;32m    180\u001b[0m         visualizza_segmenti_bw(new_placca, segments)\n\u001b[1;32m--> 181\u001b[0m         segmenti[:, :, z] \u001b[38;5;241m=\u001b[39m segments\n\u001b[0;32m    183\u001b[0m \u001b[38;5;28;01mreturn\u001b[39;00m segmenti\n",
      "\u001b[1;31mValueError\u001b[0m: could not broadcast input array from shape (64,64) into shape (512,512)"
     ]
    }
   ],
   "source": [
    "# Percorsi delle cartelle\n",
    "pazienti_dir = 'C:\\\\Users\\\\bsbar\\\\Desktop\\\\pazienti_nrrd'\n",
    "roi_dir = 'C:\\\\Users\\\\bsbar\\\\Desktop\\\\Tesi\\\\ROI'\n",
    "\n",
    "# Cartelle da saltare\n",
    "cartelle_da_saltare = ['19', '40', '88', '150', '193']\n",
    "\n",
    "# Lista per i vettori delle features e i nomi dei pazienti\n",
    "feature_vectors = []\n",
    "patient_names = []\n",
    "segmenti_numeri = []\n",
    "dimension_mismatch = []\n",
    "\n",
    "# Imposta l'estrattore radiomico\n",
    "estrattore = featureextractor.RadiomicsFeatureExtractor()\n",
    "\n",
    "# Funzione per estrarre le features da ciascun segmento\n",
    "def estrai_features_segmenti(segmenti, volume_3d, maschera):\n",
    "    feature_vectors = []\n",
    "    segmenti_successo = []\n",
    "    feature_names = None\n",
    "    \n",
    "    unique_segments = np.unique(segmenti)\n",
    "    \n",
    "    for segment in unique_segments:\n",
    "        if segment == 0:\n",
    "            continue\n",
    "        \n",
    "        segment_mask = (segmenti == segment)\n",
    "        if np.any(segment_mask):\n",
    "            segment_volume = np.where(segment_mask, volume_3d, 0)\n",
    "            segment_masquer = np.where(segment_mask, maschera, 0)\n",
    "            \n",
    "            sitk_segment_volume = numpy_to_sitk(segment_volume)\n",
    "            sitk_segment_masquer = numpy_to_sitk(segment_masquer)\n",
    "            \n",
    "            try:\n",
    "                results = estrattore.execute(sitk_segment_volume, sitk_segment_masquer)\n",
    "                if feature_names is None:\n",
    "                    feature_names = list(results.keys())\n",
    "                    \n",
    "                feature_vector = [results.get(key, np.nan) for key in feature_names]\n",
    "                feature_vectors.append(feature_vector)\n",
    "                segmenti_successo.append(segment)\n",
    "                \n",
    "            except ValueError as e:\n",
    "                print(f\"Errore durante l'estrazione delle features per il segmento {segment}: {e}\")\n",
    "                continue\n",
    "\n",
    "    return feature_vectors, segmenti_successo, feature_names\n",
    "\n",
    "# Codice per processare i pazienti\n",
    "for paziente in sorted(os.listdir(pazienti_dir)):\n",
    "    if paziente in cartelle_da_saltare:\n",
    "        print(f\"Saltando paziente: {paziente}\")\n",
    "        continue\n",
    "\n",
    "    print(f\"Processando paziente: {paziente}\")\n",
    "    \n",
    "    immagine_file = trova_nrrd_file(os.path.join(pazienti_dir, paziente))\n",
    "    maschera_file = trova_nrrd_file(os.path.join(roi_dir, paziente))\n",
    "    \n",
    "    if immagine_file and maschera_file:\n",
    "        volume_placca = carica_volume_paziente(os.path.join(pazienti_dir, paziente))\n",
    "        maschera_placca = carica_volume_paziente(os.path.join(roi_dir, paziente))\n",
    "        \n",
    "        if volume_placca.shape == maschera_placca.shape:\n",
    "            if len(volume_placca.shape) == 4:\n",
    "                volume_placca = np.squeeze(volume_placca, axis=-1)\n",
    "                maschera_placca = np.squeeze(maschera_placca, axis=-1)\n",
    "\n",
    "            if volume_placca.shape[2] != 512:\n",
    "                volume_placca = riduci_slice(volume_placca)\n",
    "                maschera_placca = riduci_slice(maschera_placca)\n",
    "\n",
    "            # Segmenta la placca\n",
    "            segmenti = segmenta_placca(volume_placca, maschera_placca)\n",
    "            \n",
    "            # Visualizza una sezione del volume segmentato\n",
    "            visualizza_segmenti(segmenti, volume_placca)\n",
    "            \n",
    "        else:\n",
    "            print(f\"Dimensioni non corrispondenti per il paziente {paziente}\")\n",
    "    else:\n",
    "        print(f\"File mancanti per il paziente {paziente}\")\n",
    "\n",
    "# Crea un DataFrame e salva come CSV\n",
    "df = pd.DataFrame(feature_vectors, columns=feature_names)\n",
    "df.insert(0, 'paziente', patient_names)\n",
    "df.insert(1, 'segmento', segmenti_numeri)\n",
    "\n",
    "# Salva il DataFrame in un file CSV\n",
    "#df.to_csv('features_radiomiche_segmenti.csv', index=False)"
   ]
  },
  {
   "cell_type": "markdown",
   "metadata": {},
   "source": [
    "## Salvataggio"
   ]
  },
  {
   "cell_type": "code",
   "execution_count": 6,
   "metadata": {},
   "outputs": [
    {
     "name": "stdout",
     "output_type": "stream",
     "text": [
      "Nomi delle colonne:\n",
      "['paziente', 'blocco', 'diagnostics_Versions_PyRadiomics', 'diagnostics_Versions_Numpy', 'diagnostics_Versions_SimpleITK', 'diagnostics_Versions_PyWavelet', 'diagnostics_Versions_Python', 'diagnostics_Configuration_Settings', 'diagnostics_Configuration_EnabledImageTypes', 'diagnostics_Image-original_Hash', 'diagnostics_Image-original_Dimensionality', 'diagnostics_Image-original_Spacing', 'diagnostics_Image-original_Size', 'diagnostics_Image-original_Mean', 'diagnostics_Image-original_Minimum', 'diagnostics_Image-original_Maximum', 'diagnostics_Mask-original_Hash', 'diagnostics_Mask-original_Spacing', 'diagnostics_Mask-original_Size', 'diagnostics_Mask-original_BoundingBox', 'diagnostics_Mask-original_VoxelNum', 'diagnostics_Mask-original_VolumeNum', 'diagnostics_Mask-original_CenterOfMassIndex', 'diagnostics_Mask-original_CenterOfMass', 'original_shape_Elongation', 'original_shape_Flatness', 'original_shape_LeastAxisLength', 'original_shape_MajorAxisLength', 'original_shape_Maximum2DDiameterColumn', 'original_shape_Maximum2DDiameterRow', 'original_shape_Maximum2DDiameterSlice', 'original_shape_Maximum3DDiameter', 'original_shape_MeshVolume', 'original_shape_MinorAxisLength', 'original_shape_Sphericity', 'original_shape_SurfaceArea', 'original_shape_SurfaceVolumeRatio', 'original_shape_VoxelVolume', 'original_firstorder_10Percentile', 'original_firstorder_90Percentile', 'original_firstorder_Energy', 'original_firstorder_Entropy', 'original_firstorder_InterquartileRange', 'original_firstorder_Kurtosis', 'original_firstorder_Maximum', 'original_firstorder_MeanAbsoluteDeviation', 'original_firstorder_Mean', 'original_firstorder_Median', 'original_firstorder_Minimum', 'original_firstorder_Range', 'original_firstorder_RobustMeanAbsoluteDeviation', 'original_firstorder_RootMeanSquared', 'original_firstorder_Skewness', 'original_firstorder_TotalEnergy', 'original_firstorder_Uniformity', 'original_firstorder_Variance', 'original_glcm_Autocorrelation', 'original_glcm_ClusterProminence', 'original_glcm_ClusterShade', 'original_glcm_ClusterTendency', 'original_glcm_Contrast', 'original_glcm_Correlation', 'original_glcm_DifferenceAverage', 'original_glcm_DifferenceEntropy', 'original_glcm_DifferenceVariance', 'original_glcm_Id', 'original_glcm_Idm', 'original_glcm_Idmn', 'original_glcm_Idn', 'original_glcm_Imc1', 'original_glcm_Imc2', 'original_glcm_InverseVariance', 'original_glcm_JointAverage', 'original_glcm_JointEnergy', 'original_glcm_JointEntropy', 'original_glcm_MCC', 'original_glcm_MaximumProbability', 'original_glcm_SumAverage', 'original_glcm_SumEntropy', 'original_glcm_SumSquares', 'original_gldm_DependenceEntropy', 'original_gldm_DependenceNonUniformity', 'original_gldm_DependenceNonUniformityNormalized', 'original_gldm_DependenceVariance', 'original_gldm_GrayLevelNonUniformity', 'original_gldm_GrayLevelVariance', 'original_gldm_HighGrayLevelEmphasis', 'original_gldm_LargeDependenceEmphasis', 'original_gldm_LargeDependenceHighGrayLevelEmphasis', 'original_gldm_LargeDependenceLowGrayLevelEmphasis', 'original_gldm_LowGrayLevelEmphasis', 'original_gldm_SmallDependenceEmphasis', 'original_gldm_SmallDependenceHighGrayLevelEmphasis', 'original_gldm_SmallDependenceLowGrayLevelEmphasis', 'original_glrlm_GrayLevelNonUniformity', 'original_glrlm_GrayLevelNonUniformityNormalized', 'original_glrlm_GrayLevelVariance', 'original_glrlm_HighGrayLevelRunEmphasis', 'original_glrlm_LongRunEmphasis', 'original_glrlm_LongRunHighGrayLevelEmphasis', 'original_glrlm_LongRunLowGrayLevelEmphasis', 'original_glrlm_LowGrayLevelRunEmphasis', 'original_glrlm_RunEntropy', 'original_glrlm_RunLengthNonUniformity', 'original_glrlm_RunLengthNonUniformityNormalized', 'original_glrlm_RunPercentage', 'original_glrlm_RunVariance', 'original_glrlm_ShortRunEmphasis', 'original_glrlm_ShortRunHighGrayLevelEmphasis', 'original_glrlm_ShortRunLowGrayLevelEmphasis', 'original_glszm_GrayLevelNonUniformity', 'original_glszm_GrayLevelNonUniformityNormalized', 'original_glszm_GrayLevelVariance', 'original_glszm_HighGrayLevelZoneEmphasis', 'original_glszm_LargeAreaEmphasis', 'original_glszm_LargeAreaHighGrayLevelEmphasis', 'original_glszm_LargeAreaLowGrayLevelEmphasis', 'original_glszm_LowGrayLevelZoneEmphasis', 'original_glszm_SizeZoneNonUniformity', 'original_glszm_SizeZoneNonUniformityNormalized', 'original_glszm_SmallAreaEmphasis', 'original_glszm_SmallAreaHighGrayLevelEmphasis', 'original_glszm_SmallAreaLowGrayLevelEmphasis', 'original_glszm_ZoneEntropy', 'original_glszm_ZonePercentage', 'original_glszm_ZoneVariance', 'original_ngtdm_Busyness', 'original_ngtdm_Coarseness', 'original_ngtdm_Complexity', 'original_ngtdm_Contrast', 'original_ngtdm_Strength']\n"
     ]
    }
   ],
   "source": [
    "\n",
    "# Carica il file CSV\n",
    "file_path = 'features_radiomiche_blocchi.csv'\n",
    "df = pd.read_csv(file_path)\n",
    "\n",
    "# Stampa tutti i nomi delle colonne\n",
    "print(\"Nomi delle colonne:\")\n",
    "print(df.columns.tolist())\n",
    "\n",
    "# Specifica i nomi delle colonne da eliminare\n",
    "colonne_da_eliminare = ['diagnostics_Versions_PyRadiomics', 'diagnostics_Versions_Numpy', 'diagnostics_Versions_SimpleITK', 'diagnostics_Versions_PyWavelet', 'diagnostics_Versions_Python', 'diagnostics_Configuration_Settings', 'diagnostics_Configuration_EnabledImageTypes', 'diagnostics_Image-original_Hash', 'diagnostics_Image-original_Dimensionality', 'diagnostics_Image-original_Spacing', 'diagnostics_Image-original_Size', 'diagnostics_Image-original_Mean', 'diagnostics_Image-original_Minimum', 'diagnostics_Image-original_Maximum', 'diagnostics_Mask-original_Hash', 'diagnostics_Mask-original_Spacing', 'diagnostics_Mask-original_Size', 'diagnostics_Mask-original_BoundingBox', 'diagnostics_Mask-original_VoxelNum', 'diagnostics_Mask-original_VolumeNum', 'diagnostics_Mask-original_CenterOfMassIndex', 'diagnostics_Mask-original_CenterOfMass']  # Sostituisci con i nomi reali delle colonne da eliminare\n",
    "\n",
    "# Elimina le colonne specificate\n",
    "df = df.drop(columns=colonne_da_eliminare)\n",
    "\n",
    "# Ordina il DataFrame in base alla prima colonna per numero in ordine crescente\n",
    "df_sorted = df.sort_values(by=df.columns[0])\n",
    "\n",
    "# Salva il DataFrame ordinato in un nuovo file CSV\n",
    "df_sorted.to_csv('features_blocchi_nuove_16.csv', index=False)\n"
   ]
  },
  {
   "cell_type": "code",
   "execution_count": 25,
   "metadata": {},
   "outputs": [
    {
     "ename": "NameError",
     "evalue": "name 'results' is not defined",
     "output_type": "error",
     "traceback": [
      "\u001b[1;31m---------------------------------------------------------------------------\u001b[0m",
      "\u001b[1;31mNameError\u001b[0m                                 Traceback (most recent call last)",
      "Cell \u001b[1;32mIn[25], line 5\u001b[0m\n\u001b[0;32m      3\u001b[0m \u001b[38;5;66;03m# Ordina i pazienti in base al loro nome numerico\u001b[39;00m\n\u001b[0;32m      4\u001b[0m patient_names_sorted, feature_vectors_sorted \u001b[38;5;241m=\u001b[39m \u001b[38;5;28mzip\u001b[39m(\u001b[38;5;241m*\u001b[39m\u001b[38;5;28msorted\u001b[39m(\u001b[38;5;28mzip\u001b[39m(patient_names, feature_vectors), key\u001b[38;5;241m=\u001b[39m\u001b[38;5;28;01mlambda\u001b[39;00m x: \u001b[38;5;28mint\u001b[39m(x[\u001b[38;5;241m0\u001b[39m])))\n\u001b[1;32m----> 5\u001b[0m feature_names \u001b[38;5;241m=\u001b[39m [key \u001b[38;5;28;01mfor\u001b[39;00m key, value \u001b[38;5;129;01min\u001b[39;00m \u001b[43mresults\u001b[49m\u001b[38;5;241m.\u001b[39mitems() \u001b[38;5;28;01mif\u001b[39;00m \u001b[38;5;28misinstance\u001b[39m(value, (\u001b[38;5;28mfloat\u001b[39m, \u001b[38;5;28mint\u001b[39m, np\u001b[38;5;241m.\u001b[39mndarray))]\n\u001b[0;32m      8\u001b[0m \u001b[38;5;66;03m# Salva le features e i nomi dei pazienti in un file CSV\u001b[39;00m\n\u001b[0;32m      9\u001b[0m output_csv \u001b[38;5;241m=\u001b[39m \u001b[38;5;124m'\u001b[39m\u001b[38;5;124mfeatures_radiomiche_blocchi.csv\u001b[39m\u001b[38;5;124m'\u001b[39m\n",
      "\u001b[1;31mNameError\u001b[0m: name 'results' is not defined"
     ]
    }
   ],
   "source": [
    "import csv\n",
    "\n",
    "# Ordina i pazienti in base al loro nome numerico\n",
    "patient_names_sorted, feature_vectors_sorted = zip(*sorted(zip(patient_names, feature_vectors), key=lambda x: int(x[0])))\n",
    "feature_names = [key for key, value in results.items() if isinstance(value, (float, int, np.ndarray))]\n",
    "\n",
    "\n",
    "# Salva le features e i nomi dei pazienti in un file CSV\n",
    "output_csv = 'features_radiomiche_blocchi.csv'\n",
    "with open(output_csv, mode='w', newline='') as file:\n",
    "    writer = csv.writer(file, delimiter=';')  # Usa il delimitatore punto e virgola\n",
    "\n",
    "    # Scrivi l'intestazione: la prima colonna è \"Paziente\" e le altre colonne rappresentano le features\n",
    "    writer.writerow(['Paziente'] + feature_names)\n",
    "\n",
    "    # Scrivi i dati: il nome del paziente e le sue features\n",
    "    for name, features in zip(patient_names_sorted, feature_vectors_sorted):\n",
    "        writer.writerow([name] + list(features))\n",
    "\n",
    "print(f'File CSV salvato come {output_csv}')"
   ]
  },
  {
   "cell_type": "markdown",
   "metadata": {},
   "source": [
    "## Da Provare\n",
    "\n",
    "Blocchi Sovrapposti (Overlapping Blocks):Utilizza una finestra mobile che si sovrappone parzialmente tra i blocchi. Questo è particolarmente utile se la placca è piccola e non riempie completamente i blocchi di dimensioni standard. L'overlapping aiuta a garantire che nessuna parte della placca venga trascurata.\n",
    "Adaptive Windowing:\n",
    "\n",
    "Finestra Adattativa: Anziché usare blocchi di dimensioni fisse, puoi utilizzare finestre adattative che si adattano alle dimensioni della placca. Ad esempio, puoi estrarre blocchi di dimensioni variabili che siano abbastanza grandi da contenere la placca, ma non troppo grandi da includere troppo background.\n",
    "Segmentation and Bounding Box Extraction:\n",
    "\n",
    "Bounding Box: Segmenta il volume in base alla ROI e applica una bounding box attorno alla placca. Successivamente, estrai blocchi 3D di dimensioni adeguate attorno a questa bounding box. Se la placca è molto piccola, puoi espandere leggermente la bounding box per garantire che il blocco contenga la placca e una certa area circostante.\n",
    "Grid Search with Padding:\n",
    "\n",
    "Ricerca a Griglia con Padding: Suddividi il volume in blocchi utilizzando una griglia regolare ma includi un padding extra intorno alla placca. Questo significa che i blocchi saranno leggermente più grandi per garantire che la placca sia ben inclusa in uno dei blocchi.\n",
    "Dynamic Slicing:\n",
    "\n",
    "Slicing Dinamico: Se la placca è molto piccola, potresti considerare di estrarre slice multiple attorno alla placca e combinarle per formare un blocco 3D. Ad esempio, estrai le slice immediatamente sopra e sotto la placca e poi aggregale per creare un blocco che contenga la placca e un'area circostante.\n",
    "Voxel-Based Extraction:\n",
    "\n",
    "Estrazione Basata sui Voxel: Analizza i voxel che appartengono alla placca e poi crea blocchi basati su questi voxel. Puoi estrarre solo i voxel di interesse e poi costruire blocchi 3D attorno a questi voxel specifici.\n",
    "Resampling e Scaling:\n",
    "\n",
    "Risoluzione Adatta: Se i blocchi sono troppo grandi rispetto alla placca, considera di fare un resampling del volume per aumentare la risoluzione e ridurre le dimensioni dei blocchi. Questo può aiutare a garantire che la placca venga inclusa in modo più dettagliato all'interno dei blocchi."
   ]
  },
  {
   "cell_type": "markdown",
   "metadata": {},
   "source": []
  }
 ],
 "metadata": {
  "kernelspec": {
   "display_name": "iml",
   "language": "python",
   "name": "python3"
  },
  "language_info": {
   "codemirror_mode": {
    "name": "ipython",
    "version": 3
   },
   "file_extension": ".py",
   "mimetype": "text/x-python",
   "name": "python",
   "nbconvert_exporter": "python",
   "pygments_lexer": "ipython3",
   "version": "3.10.12"
  }
 },
 "nbformat": 4,
 "nbformat_minor": 2
}
